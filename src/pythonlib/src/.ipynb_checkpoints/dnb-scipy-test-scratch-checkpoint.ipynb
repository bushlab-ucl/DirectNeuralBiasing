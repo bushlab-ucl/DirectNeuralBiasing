{
 "cells": [
  {
   "cell_type": "code",
   "execution_count": 2,
   "id": "6194662f-b286-4f21-a86d-7a059b40ae2e",
   "metadata": {},
   "outputs": [],
   "source": [
    "import dnb.filters\n",
    "import scipy.signal as signal"
   ]
  },
  {
   "cell_type": "code",
   "execution_count": 3,
   "id": "b320401e-0698-4923-aa45-6480dc512b89",
   "metadata": {},
   "outputs": [
    {
     "data": {
      "text/plain": [
       "[6.123233995736766e-17,\n",
       " 0.0,\n",
       " 6.123233995736765e-17,\n",
       " -1.224646799147353e-16,\n",
       " 6.123233995736766e-17]"
      ]
     },
     "execution_count": 3,
     "metadata": {},
     "output_type": "execute_result"
    }
   ],
   "source": [
    "dnb.filters.butterworth(1,2,[1,2,3,2,1])"
   ]
  },
  {
   "cell_type": "code",
   "execution_count": null,
   "id": "d9e73001-8e01-4efd-bc1d-801714de333c",
   "metadata": {},
   "outputs": [],
   "source": []
  }
 ],
 "metadata": {
  "kernelspec": {
   "display_name": "Python 3 (ipykernel)",
   "language": "python",
   "name": "python3"
  },
  "language_info": {
   "codemirror_mode": {
    "name": "ipython",
    "version": 3
   },
   "file_extension": ".py",
   "mimetype": "text/x-python",
   "name": "python",
   "nbconvert_exporter": "python",
   "pygments_lexer": "ipython3",
   "version": "3.11.4"
  }
 },
 "nbformat": 4,
 "nbformat_minor": 5
}
