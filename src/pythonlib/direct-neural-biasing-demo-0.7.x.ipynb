{
 "cells": [
  {
   "cell_type": "markdown",
   "id": "0779de53-eb3f-4f08-8ca3-8ec53dd0b2d2",
   "metadata": {},
   "source": [
    "# Direct Neural Biasing - Python Demo"
   ]
  },
  {
   "cell_type": "markdown",
   "id": "db8f3694-e824-47e4-8098-fa06e7757828",
   "metadata": {},
   "source": [
    "## STEP 1 - Python Imports"
   ]
  },
  {
   "cell_type": "code",
   "execution_count": null,
   "id": "2fdd3bcb-ea83-45b0-a42d-42a6a20b082e",
   "metadata": {},
   "outputs": [],
   "source": [
    "from pathlib import Path\n",
    "from time import time\n",
    "import re\n",
    "\n",
    "from scipy import signal\n",
    "import matplotlib.pyplot as plt\n",
    "import numpy as np\n",
    "import pandas as pd\n",
    "\n",
    "import mne\n",
    "import direct_neural_biasing as dnb"
   ]
  },
  {
   "cell_type": "markdown",
   "id": "9e2d07dc-3354-4ce5-b84f-713974fb9843",
   "metadata": {},
   "source": [
    "## STEP 2 - Define Data Array"
   ]
  },
  {
   "cell_type": "markdown",
   "id": "4855326c-0e74-4c7e-b07e-2d73ac8b8e89",
   "metadata": {},
   "source": [
    "#### 2.1 - Read EDF File"
   ]
  },
  {
   "cell_type": "code",
   "execution_count": null,
   "id": "b1406084-629e-494d-b42f-2c9a512a531c",
   "metadata": {},
   "outputs": [],
   "source": [
    "file = './data/JS.edf' # place an EDF file in the /data dir\n",
    "\n",
    "raw = mne.io.read_raw_edf(file)\n",
    "sample_freq = raw.info[\"sfreq\"]\n",
    "data_full = raw.get_data().flatten()"
   ]
  },
  {
   "cell_type": "code",
   "execution_count": null,
   "id": "b995cd3c-6235-4ab1-a97e-fb04dd10f2ec",
   "metadata": {},
   "outputs": [],
   "source": [
    "# Temporary hack that imports 'data' from CSV \n",
    "# data = pd.read_csv('signal.csv').values.flatten()"
   ]
  },
  {
   "cell_type": "markdown",
   "id": "a2595ccf-b5d0-46b1-b056-2ec2be9aadd6",
   "metadata": {},
   "source": [
    "#### 2.2 - Truncate data array for debug"
   ]
  },
  {
   "cell_type": "code",
   "execution_count": null,
   "id": "85ce9b68-0734-4ae4-b858-d625ce71cc1d",
   "metadata": {},
   "outputs": [],
   "source": [
    "data = data_full[:100000]"
   ]
  },
  {
   "cell_type": "markdown",
   "id": "f94a9db0-cd71-43a8-98ed-9efbf50455a8",
   "metadata": {
    "jp-MarkdownHeadingCollapsed": true
   },
   "source": [
    "#### 2.2 ALT - Read Sample CSV"
   ]
  },
  {
   "cell_type": "markdown",
   "id": "c5d4d1b5-da82-411d-80af-3a5dbc885f61",
   "metadata": {},
   "source": [
    "## STEP 3 - Setup SignalProcesser"
   ]
  },
  {
   "cell_type": "markdown",
   "id": "e4a74c5a-7b85-4e32-84cc-163541fc7eb7",
   "metadata": {},
   "source": [
    "#### 3.1 - Create Signal Processor"
   ]
  },
  {
   "cell_type": "code",
   "execution_count": null,
   "id": "6fc736c6-b3b0-4ec5-aad2-52216b200974",
   "metadata": {},
   "outputs": [],
   "source": [
    "verbose = False # verbose=True gives more verbose output in results object for debugging\n",
    "\n",
    "signal_processor = dnb.PySignalProcessor(verbose)"
   ]
  },
  {
   "cell_type": "markdown",
   "id": "0806f5e4-883f-4ee1-803e-fde30c78849b",
   "metadata": {},
   "source": [
    "#### 3.2 - Create Filters"
   ]
  },
  {
   "cell_type": "code",
   "execution_count": null,
   "id": "04a4252f-6346-4f0f-996d-d2806975c566",
   "metadata": {},
   "outputs": [],
   "source": [
    "slow_wave_filter_id = 'bandpass_filter_slow_wave'\n",
    "f_low = 0.5 # cutoff_low\n",
    "f_high = 4.0 # cutoff_high\n",
    "sample_freq = sample_freq # signal sample rate\n",
    "\n",
    "signal_processor.add_filter(slow_wave_filter_id, f_low, f_high, sample_freq)"
   ]
  },
  {
   "cell_type": "code",
   "execution_count": null,
   "id": "2f5aefd9-280a-4643-9205-52c620480335",
   "metadata": {},
   "outputs": [],
   "source": [
    "ied_filter_id = 'bandpass_filter_ied'\n",
    "f_low = 80.0 # cutoff_low\n",
    "f_high = 120.0 # cutoff_high\n",
    "sample_freq = sample_freq # signal sample rate\n",
    "\n",
    "signal_processor.add_filter(ied_filter_id, f_low, f_high, sample_freq)"
   ]
  },
  {
   "cell_type": "markdown",
   "id": "48f24a54-fb16-41cb-922e-18a74518dd22",
   "metadata": {},
   "source": [
    "#### 3.3 - Create Slow Wave Detector"
   ]
  },
  {
   "cell_type": "code",
   "execution_count": null,
   "id": "94909be8-0d9c-4db8-be38-49927799f2f6",
   "metadata": {},
   "outputs": [],
   "source": [
    "activation_detector_id = 'slow_wave_detector'\n",
    "z_score_threshold = 3.0 # candidate wave amplitude threhsold\n",
    "sinusoidness_threshold = 0.5 # cosine wave correlation, between 0 and 1.\n",
    "\n",
    "signal_processor.add_slow_wave_detector(\n",
    "    activation_detector_id,\n",
    "    slow_wave_filter_id, # which filtered_signal should the detector read from\n",
    "    z_score_threshold,\n",
    "    sinusoidness_threshold,\n",
    ")"
   ]
  },
  {
   "cell_type": "markdown",
   "id": "502e2323-3610-45ec-92c0-7d98c1d4b128",
   "metadata": {},
   "source": [
    "#### 3.4 - Create IED Detector"
   ]
  },
  {
   "cell_type": "code",
   "execution_count": null,
   "id": "a1edb31e-803d-452e-8655-a8d3e6f2bfae",
   "metadata": {},
   "outputs": [],
   "source": [
    "inhibition_detector_id = 'ied_detector'\n",
    "z_score_threshold = 5.0 # threhsold for candidate detection event\n",
    "buffer_size = 10 # length of buffer - to manage noise resistance\n",
    "sensitivy = 0.5 # Between 0 and 1. Ratio of values in buffer OVER threshold required to trigger an 'IED Detected' event.\n",
    "\n",
    "signal_processor.add_threshold_detector(\n",
    "    inhibition_detector_id,\n",
    "    ied_filter_id, # which filtered_signal should the detector read from\n",
    "    z_score_threshold,\n",
    "    buffer_size,\n",
    "    sensitivy\n",
    ")"
   ]
  },
  {
   "cell_type": "markdown",
   "id": "1f9ae31f-3fba-4fc6-83da-57a058b89ca3",
   "metadata": {},
   "source": [
    "#### 3.5 - Create Pulse Trigger"
   ]
  },
  {
   "cell_type": "code",
   "execution_count": null,
   "id": "bb280157-50e2-40b9-8dca-38a60501ab39",
   "metadata": {},
   "outputs": [],
   "source": [
    "trigger_id = 'pulse_trigger'\n",
    "inhibition_cooldown_ms = 2000 # duration in seconds for cooldown after IED detection\n",
    "pulse_cooldown_ms = 2000 # duration in ms ms cooldown after pulse event\n",
    "\n",
    "signal_processor.add_pulse_trigger(\n",
    "    trigger_id,\n",
    "    activation_detector_id, # which detector triggers a pulse - SlowWave in this case\n",
    "    inhibition_detector_id, # which detector triggers an inhibition cooldown - IED in this case\n",
    "    inhibition_cooldown_ms,\n",
    "    pulse_cooldown_ms\n",
    ")"
   ]
  },
  {
   "cell_type": "markdown",
   "id": "222556be-8236-4976-b73e-a7714b604075",
   "metadata": {},
   "source": [
    "## STEP 4 - Analyse Signal"
   ]
  },
  {
   "cell_type": "markdown",
   "id": "7de9da02-2313-4938-a2d2-8a505020b65f",
   "metadata": {},
   "source": [
    "#### 4.1 - Run"
   ]
  },
  {
   "cell_type": "code",
   "execution_count": null,
   "id": "295d7926-66cf-420f-906d-5014ec3fef16",
   "metadata": {},
   "outputs": [],
   "source": [
    "import os\n",
    "import direct_neural_biasing as dnb\n",
    "\n",
    "# Set the RUST_BACKTRACE environment variable\n",
    "os.environ['RUST_BACKTRACE'] = '1'\n",
    "\n",
    "# Assuming `signal_processor` is an instance of your PySignalProcessor\n",
    "# and `data` is your input data\n",
    "try:\n",
    "    out = signal_processor.run(data)\n",
    "except Exception as e:\n",
    "    print(f\"An error occurred: {e}\")"
   ]
  },
  {
   "cell_type": "code",
   "execution_count": null,
   "id": "b2b7d18c-3be7-4182-9eea-7452df25d414",
   "metadata": {},
   "outputs": [],
   "source": [
    "out = signal_processor.run(data)"
   ]
  },
  {
   "cell_type": "markdown",
   "id": "c0a2d4be-820d-4c8b-a291-65401e0f16ad",
   "metadata": {},
   "source": [
    "#### 4.2 - Example Sample Output"
   ]
  },
  {
   "cell_type": "code",
   "execution_count": null,
   "id": "43e8101f-c838-488e-9827-9c47059ce5d1",
   "metadata": {},
   "outputs": [],
   "source": [
    "len(out)"
   ]
  },
  {
   "cell_type": "code",
   "execution_count": null,
   "id": "17468d47-4199-47cb-b6d7-215e35a57f5a",
   "metadata": {},
   "outputs": [],
   "source": [
    "out[0]"
   ]
  },
  {
   "cell_type": "markdown",
   "id": "fa37c54f-6325-4dd1-9c32-9b20321cc1c9",
   "metadata": {},
   "source": [
    "## STEP 5 - Check Filtered Signal Against Scipy"
   ]
  },
  {
   "cell_type": "markdown",
   "id": "4c0db744-bdaf-40f7-85b7-b1c7e44d2fe6",
   "metadata": {},
   "source": [
    "#### 5.1 - Prepare Signal Arrays"
   ]
  },
  {
   "cell_type": "code",
   "execution_count": null,
   "id": "55e7621c-b58f-40fa-87ce-3f41b833556b",
   "metadata": {},
   "outputs": [],
   "source": [
    "raw_signal_downsampled = signal.decimate(data, downsample_rate) # downsample to match dnb_raw_signal\n",
    "dnb_raw_signal = [sample['global:raw_sample'] for sample in out]\n",
    "dnb_filtered_signal = [sample[f'filters:{filter_id}:filtered_sample'] for sample in out]"
   ]
  },
  {
   "cell_type": "markdown",
   "id": "e44ce476-d1aa-4feb-bc9c-87ca27b19ea4",
   "metadata": {},
   "source": [
    "#### 5.2 - Create Scipy Filtered Signal"
   ]
  },
  {
   "cell_type": "code",
   "execution_count": null,
   "id": "db0351d0-749d-40b4-bb92-b983d169dada",
   "metadata": {},
   "outputs": [],
   "source": [
    "# SciPy filtering parameters\n",
    "order = 2\n",
    "lowcut = 0.25  # Low cut frequency in Hz\n",
    "highcut = 4.0  # High cut frequency in Hz\n",
    "\n",
    "# Design a Butterworth bandpass filter using SciPy\n",
    "b, a = signal.butter(order, [lowcut, highcut], 'bp', fs= (sample_freq / downsample_rate))\n",
    "\n",
    "# Apply the filter to the raw signal using SciPy\n",
    "scipy_filtered_signal = signal.lfilter(b, a, raw_signal_downsampled)"
   ]
  },
  {
   "cell_type": "markdown",
   "id": "878a4bf3-6d29-495d-897e-7b61e1a148a0",
   "metadata": {},
   "source": [
    "#### 5.3 - Truncate Signals for Easier Debug"
   ]
  },
  {
   "cell_type": "code",
   "execution_count": null,
   "id": "cae4b150-779e-41f8-a0f1-5a91a4e0feeb",
   "metadata": {},
   "outputs": [],
   "source": [
    "start_idx = 0\n",
    "end_idx = 1000\n",
    "\n",
    "raw_signal_truncated = raw_signal_downsampled[start_idx:end_idx]\n",
    "dnb_raw_signal_truncated = dnb_raw_signal[start_idx:end_idx]\n",
    "dnb_filtered_signal_truncated = dnb_filtered_signal[start_idx:end_idx]\n",
    "scipy_filtered_signal_truncated = scipy_filtered_signal[start_idx:end_idx]"
   ]
  },
  {
   "cell_type": "markdown",
   "id": "0e4d9fc8-7f16-4706-be6a-2ddaa2f00229",
   "metadata": {},
   "source": [
    "#### 5.4 - Plot Graphs"
   ]
  },
  {
   "cell_type": "code",
   "execution_count": null,
   "id": "5c4577d6-3726-4ada-a171-f8284c6675cf",
   "metadata": {},
   "outputs": [],
   "source": [
    "# Convert sample indices to time in seconds\n",
    "time = np.arange(len(raw_signal_truncated)) / (sample_freq * downsample_rate)\n",
    "\n",
    "# Plot the four graphs\n",
    "fig, axs = plt.subplots(4, 1, figsize=(12, 12), sharex=True)\n",
    "\n",
    "# Plot the raw signal\n",
    "axs[0].plot(time, raw_signal_truncated, label='Raw Signal')\n",
    "axs[0].set_title('Raw Signal')\n",
    "axs[0].set_ylabel('Amplitude')\n",
    "axs[0].legend()\n",
    "\n",
    "# Plot the dnb_raw signal\n",
    "axs[1].plot(time, dnb_raw_signal_truncated, label='DNB - Raw Signal')\n",
    "axs[1].set_title('DNB - Raw Signal')\n",
    "axs[1].set_ylabel('Amplitude')\n",
    "axs[1].legend()\n",
    "\n",
    "# Plot the dnb_filtered signal\n",
    "axs[2].plot(time, dnb_filtered_signal_truncated, label='DNB - Filtered Signal', color='orange')\n",
    "axs[2].set_title('DNB - Filtered Signal')\n",
    "axs[2].set_ylabel('Amplitude')\n",
    "axs[2].legend()\n",
    "\n",
    "# Plot the sciPy_filtered signal\n",
    "axs[3].plot(time, scipy_filtered_signal_truncated, label='SciPy - Filtered Signal', color='green')\n",
    "axs[3].set_title('SciPy - Filtered Signal')\n",
    "axs[3].set_xlabel('Time (seconds)')\n",
    "axs[3].set_ylabel('Amplitude')\n",
    "axs[3].legend()\n",
    "\n",
    "# Show the plots\n",
    "plt.tight_layout()\n",
    "plt.show()"
   ]
  },
  {
   "cell_type": "markdown",
   "id": "086fbd15-2948-4cd7-99be-b6222789d1f4",
   "metadata": {},
   "source": [
    "## STEP 6 - Find Detected Events"
   ]
  },
  {
   "cell_type": "code",
   "execution_count": null,
   "id": "9ff9357d-5835-45f9-a4a4-7851bfffdd6c",
   "metadata": {},
   "outputs": [],
   "source": [
    "events = [item for item in out if item[f'triggers:{trigger_id}:triggered'] == 1.0]"
   ]
  },
  {
   "cell_type": "code",
   "execution_count": null,
   "id": "4cbb94bc-f3fb-423a-8194-8e2f41bbf49a",
   "metadata": {},
   "outputs": [],
   "source": [
    "len(events)"
   ]
  },
  {
   "cell_type": "markdown",
   "id": "9f631d48-18b7-4fd2-8104-145ce66722de",
   "metadata": {},
   "source": [
    "## STEP 7 - Visualise Detected Events"
   ]
  },
  {
   "cell_type": "code",
   "execution_count": null,
   "id": "1c373654-384b-4ec4-a4c2-31bf7c6883d5",
   "metadata": {},
   "outputs": [],
   "source": [
    "signal_padding_factor = 2\n",
    "\n",
    "# Function to extract indices and plot each event\n",
    "def plot_events(data, events, signal_padding_factor, sample_freq, downsample_rate):\n",
    "    for event in events:\n",
    "        # Extract the indices from the event keys\n",
    "        slow_wave_key = next(key for key in event.keys() if 'slow_wave_idx' in key)\n",
    "        idx_str = re.search(r'slow_wave_idx:([\\d, ]+):next_maxima', slow_wave_key).group(1)\n",
    "        idx_list = list(map(int, idx_str.split(',')))\n",
    "\n",
    "        # Determine the range for plotting\n",
    "        event_length = len(idx_list)\n",
    "        extra_length = event_length * signal_padding_factor * downsample_rate\n",
    "        start_idx = max(0, idx_list[0] - extra_length)\n",
    "        end_idx = min(len(data), idx_list[-1] + extra_length)\n",
    "\n",
    "        # Extract the signal segment to plot\n",
    "        segment = data[start_idx:end_idx]\n",
    "\n",
    "        # Convert indices to time in seconds\n",
    "        time = np.arange(start_idx, end_idx) # / (sample_freq * downsample_rate)\n",
    "\n",
    "        # Plot the signal segment\n",
    "        plt.figure(figsize=(10, 4))\n",
    "        plt.plot(time, segment, label='Signal')\n",
    "\n",
    "        # Highlight the event signal\n",
    "        event_start_idx = idx_list[0]\n",
    "        event_end_idx = idx_list[-1]\n",
    "        event_segment = data[event_start_idx:event_end_idx]\n",
    "        event_times = np.arange(event_start_idx, event_end_idx) # / (sample_freq * downsample_rate)\n",
    "        plt.plot(event_times, event_segment, color='red', label='Event')\n",
    "\n",
    "        # Plot the predicted next maxima as a green vertical line\n",
    "        next_maxima_index = int(event[slow_wave_key])\n",
    "        next_maxima_time = next_maxima_index # / (sample_freq * downsample_rate)\n",
    "        plt.axvline(x=next_maxima_time, color='green', linestyle='--', label='Next Maxima')\n",
    "\n",
    "        # Add labels and legend\n",
    "        plt.xlabel('Time (seconds)')\n",
    "        plt.ylabel('Amplitude')\n",
    "        plt.title('Event Signal with Next Predicted Maxima')\n",
    "        plt.ticklabel_format(useOffset=False)\n",
    "        plt.legend()\n",
    "        plt.show()\n",
    "\n",
    "# Example usage\n",
    "# Assuming `data` is your signal array and `events` is your list of event dictionaries\n",
    "plot_events(dnb_filtered_signal, events, signal_padding_factor, sample_freq, downsample_rate)"
   ]
  },
  {
   "cell_type": "code",
   "execution_count": null,
   "id": "94d2a70a-139a-4333-93d1-ad8c173c50be",
   "metadata": {},
   "outputs": [],
   "source": [
    "events[0]"
   ]
  },
  {
   "cell_type": "code",
   "execution_count": null,
   "id": "8b9d20a0-1209-47c9-9b2c-dfdd09105050",
   "metadata": {},
   "outputs": [],
   "source": []
  }
 ],
 "metadata": {
  "kernelspec": {
   "display_name": "Python 3 (ipykernel)",
   "language": "python",
   "name": "python3"
  },
  "language_info": {
   "codemirror_mode": {
    "name": "ipython",
    "version": 3
   },
   "file_extension": ".py",
   "mimetype": "text/x-python",
   "name": "python",
   "nbconvert_exporter": "python",
   "pygments_lexer": "ipython3",
   "version": "3.11.4"
  }
 },
 "nbformat": 4,
 "nbformat_minor": 5
}
