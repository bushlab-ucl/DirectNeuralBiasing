{
 "cells": [
  {
   "cell_type": "markdown",
   "id": "0779de53-eb3f-4f08-8ca3-8ec53dd0b2d2",
   "metadata": {},
   "source": [
    "# Direct Neural Biasing - Python Demo"
   ]
  },
  {
   "cell_type": "markdown",
   "id": "db8f3694-e824-47e4-8098-fa06e7757828",
   "metadata": {},
   "source": [
    "### STEP 1 - Import Python Modules"
   ]
  },
  {
   "cell_type": "code",
   "execution_count": null,
   "id": "2fdd3bcb-ea83-45b0-a42d-42a6a20b082e",
   "metadata": {},
   "outputs": [],
   "source": [
    "from pathlib import Path\n",
    "from time import time\n",
    "import re\n",
    "\n",
    "from scipy import signal\n",
    "import matplotlib.pyplot as plt\n",
    "import numpy as np\n",
    "import pandas as pd\n",
    "\n",
    "import mne\n",
    "import direct_neural_biasing as dnb"
   ]
  },
  {
   "cell_type": "markdown",
   "id": "9e2d07dc-3354-4ce5-b84f-713974fb9843",
   "metadata": {},
   "source": [
    "### STEP 2 - Define Data Array"
   ]
  },
  {
   "cell_type": "markdown",
   "id": "4855326c-0e74-4c7e-b07e-2d73ac8b8e89",
   "metadata": {},
   "source": [
    "#### 2.1 - Read EDF File"
   ]
  },
  {
   "cell_type": "code",
   "execution_count": null,
   "id": "b1406084-629e-494d-b42f-2c9a512a531c",
   "metadata": {},
   "outputs": [],
   "source": [
    "file = './data/JS.edf'\n",
    "raw = mne.io.read_raw_edf(file)\n",
    "sample_freq = raw.info[\"sfreq\"]\n",
    "data_full = raw.get_data().flatten()"
   ]
  },
  {
   "cell_type": "markdown",
   "id": "a2595ccf-b5d0-46b1-b056-2ec2be9aadd6",
   "metadata": {},
   "source": [
    "#### Truncate data array for debug"
   ]
  },
  {
   "cell_type": "code",
   "execution_count": null,
   "id": "85ce9b68-0734-4ae4-b858-d625ce71cc1d",
   "metadata": {},
   "outputs": [],
   "source": [
    "data = data_full[:1000000]"
   ]
  },
  {
   "cell_type": "markdown",
   "id": "f94a9db0-cd71-43a8-98ed-9efbf50455a8",
   "metadata": {},
   "source": [
    "#### 2.2 ALT - Read Sample CSV"
   ]
  },
  {
   "cell_type": "code",
   "execution_count": null,
   "id": "b12517ef-c657-4236-a6c3-f08660d40fd6",
   "metadata": {},
   "outputs": [],
   "source": [
    "# Temporary hack that imports 'data' from CSV \n",
    "# data = pd.read_csv('signal.csv').values.flatten()"
   ]
  },
  {
   "cell_type": "markdown",
   "id": "c5d4d1b5-da82-411d-80af-3a5dbc885f61",
   "metadata": {},
   "source": [
    "### STEP 3 - Setup Signal Processer"
   ]
  },
  {
   "cell_type": "markdown",
   "id": "e4a74c5a-7b85-4e32-84cc-163541fc7eb7",
   "metadata": {},
   "source": [
    "#### 3.1 - Create Signal Processor"
   ]
  },
  {
   "cell_type": "code",
   "execution_count": null,
   "id": "6fc736c6-b3b0-4ec5-aad2-52216b200974",
   "metadata": {},
   "outputs": [],
   "source": [
    "logging = False # logging=True generates a csv log file\n",
    "downsample_rate = 100 # 1=full sampling rate. Higher numbers create downsampling. Useful for large files and demos \n",
    "\n",
    "signal_processor = dnb.PySignalProcessor(logging, downsample_rate)"
   ]
  },
  {
   "cell_type": "markdown",
   "id": "0806f5e4-883f-4ee1-803e-fde30c78849b",
   "metadata": {},
   "source": [
    "#### 3.2 - Create Filter"
   ]
  },
  {
   "cell_type": "code",
   "execution_count": null,
   "id": "2f5aefd9-280a-4643-9205-52c620480335",
   "metadata": {},
   "outputs": [],
   "source": [
    "id = 'simple_filter'\n",
    "f0 = 0.5 # bandpass filter center frequency\n",
    "fs = sample_freq # signal sample rate\n",
    "\n",
    "signal_processor.add_filter(id, 0.5, fs)"
   ]
  },
  {
   "cell_type": "markdown",
   "id": "502e2323-3610-45ec-92c0-7d98c1d4b128",
   "metadata": {},
   "source": [
    "#### 3.3 - Create IED Detector"
   ]
  },
  {
   "cell_type": "code",
   "execution_count": null,
   "id": "a1edb31e-803d-452e-8655-a8d3e6f2bfae",
   "metadata": {},
   "outputs": [],
   "source": [
    "id = 'ied_detector'\n",
    "filter_id = 'simple_filter' # which filtered_signal should the detector read from\n",
    "z_score_threshold = 5.0 # threhsold for candidate detection event\n",
    "buffer_size = 10 # length of buffer - to increase noise resistance\n",
    "sensitivy = 0.5 # Between 0 and 1. Ratio of values in buffer over threshold required to trigger an 'IED Detected' event.\n",
    "\n",
    "signal_processor.add_threshold_detector(\n",
    "    id,\n",
    "    filter_id,\n",
    "    z_score_threshold,\n",
    "    buffer_size,\n",
    "    sensitivy\n",
    ")"
   ]
  },
  {
   "cell_type": "markdown",
   "id": "48f24a54-fb16-41cb-922e-18a74518dd22",
   "metadata": {},
   "source": [
    "#### 3.4 - Create Slow Wave Detector"
   ]
  },
  {
   "cell_type": "code",
   "execution_count": null,
   "id": "94909be8-0d9c-4db8-be38-49927799f2f6",
   "metadata": {},
   "outputs": [],
   "source": [
    "id = 'slow_wave_detector'\n",
    "filter_id = 'simple_filter' # which filtered_signal should the detector read from\n",
    "sinusoid_threshold = 0.8 # Between 0 and 1 \n",
    "absolute_min_threshold = 0.0\n",
    "absolute_max_threshold = 100.0\n",
    "\n",
    "\n",
    "signal_processor.add_slow_wave_detector(\n",
    "    id,\n",
    "    filter_id,\n",
    "    sinusoid_threshold,\n",
    "    absolute_min_threshold,\n",
    "    absolute_max_threshold\n",
    ")"
   ]
  },
  {
   "cell_type": "markdown",
   "id": "1f9ae31f-3fba-4fc6-83da-57a058b89ca3",
   "metadata": {},
   "source": [
    "#### 3.5 - Create Pulse Trigger"
   ]
  },
  {
   "cell_type": "code",
   "execution_count": null,
   "id": "bb280157-50e2-40b9-8dca-38a60501ab39",
   "metadata": {},
   "outputs": [],
   "source": [
    "id = 'pulse_trigger'\n",
    "activation_detector_id = 'slow_wave_detector' # which detector triggers a pulse\n",
    "inhibition_detector_id = 'ied_detector' # which detector triggers an inhibition coolson - an IED in this case\n",
    "activation_cooldown = 2 # duration in seconds for cooldown after pulse event\n",
    "inhibition_cooldown = 2 # duration in seconds for cooldown after IED detection\n",
    "\n",
    "signal_processor. add_pulse_trigger(\n",
    "    id,\n",
    "    activation_detector_id,\n",
    "    inhibition_detector_id,\n",
    "    activation_cooldown,\n",
    "    inhibition_cooldown\n",
    ")"
   ]
  },
  {
   "cell_type": "markdown",
   "id": "222556be-8236-4976-b73e-a7714b604075",
   "metadata": {},
   "source": [
    "### STEP 4 - Analyse Signal"
   ]
  },
  {
   "cell_type": "markdown",
   "id": "7de9da02-2313-4938-a2d2-8a505020b65f",
   "metadata": {},
   "source": [
    "#### 4.1 - Run"
   ]
  },
  {
   "cell_type": "code",
   "execution_count": null,
   "id": "b2b7d18c-3be7-4182-9eea-7452df25d414",
   "metadata": {},
   "outputs": [],
   "source": [
    "out = signal_processor.run(data)"
   ]
  },
  {
   "cell_type": "markdown",
   "id": "c0a2d4be-820d-4c8b-a291-65401e0f16ad",
   "metadata": {},
   "source": [
    "#### 4.2 - Example Sample Output"
   ]
  },
  {
   "cell_type": "code",
   "execution_count": null,
   "id": "43e8101f-c838-488e-9827-9c47059ce5d1",
   "metadata": {},
   "outputs": [],
   "source": [
    "out[0]"
   ]
  },
  {
   "cell_type": "markdown",
   "id": "086fbd15-2948-4cd7-99be-b6222789d1f4",
   "metadata": {},
   "source": [
    "### STEP 5 - Find Detected Events"
   ]
  },
  {
   "cell_type": "code",
   "execution_count": null,
   "id": "9ff9357d-5835-45f9-a4a4-7851bfffdd6c",
   "metadata": {},
   "outputs": [],
   "source": [
    "events = [item for item in out if item['triggers:pulse_trigger:triggered'] == 1.0]"
   ]
  },
  {
   "cell_type": "code",
   "execution_count": null,
   "id": "11fc1618-f837-452b-8659-285a667c46ef",
   "metadata": {},
   "outputs": [],
   "source": [
    "# events"
   ]
  },
  {
   "cell_type": "code",
   "execution_count": null,
   "id": "4cbb94bc-f3fb-423a-8194-8e2f41bbf49a",
   "metadata": {},
   "outputs": [],
   "source": [
    "len(events)"
   ]
  },
  {
   "cell_type": "markdown",
   "id": "9f631d48-18b7-4fd2-8104-145ce66722de",
   "metadata": {},
   "source": [
    "### STEP 6 - Visualise Detected Events"
   ]
  },
  {
   "cell_type": "code",
   "execution_count": null,
   "id": "1c373654-384b-4ec4-a4c2-31bf7c6883d5",
   "metadata": {},
   "outputs": [],
   "source": [
    "extra_signal_factor = 10\n",
    "\n",
    "# Function to extract indices and plot each event\n",
    "def plot_events(data, events, extra_signal_factor, sample_freq, downsample_rate):\n",
    "    for event in events:\n",
    "        # Extract the indices from the event keys\n",
    "        slow_wave_key = next(key for key in event.keys() if 'slow_wave_idx' in key)\n",
    "        idx_str = re.search(r'slow_wave_idx:([\\d, ]+):next_maxima', slow_wave_key).group(1)\n",
    "        idx_list = list(map(int, idx_str.split(',')))\n",
    "\n",
    "        # Determine the range for plotting\n",
    "        event_length = len(idx_list)\n",
    "        extra_length = event_length * extra_signal_factor\n",
    "        start_idx = max(0, idx_list[0] - extra_length)\n",
    "        end_idx = min(len(data), idx_list[-1] + extra_length)\n",
    "\n",
    "        # Extract the signal segment to plot\n",
    "        segment = data[start_idx:end_idx]\n",
    "\n",
    "        # Convert indices to time in seconds\n",
    "        time = np.arange(start_idx, end_idx) / (sample_freq * downsample_rate)\n",
    "\n",
    "        # Plot the signal segment\n",
    "        plt.figure(figsize=(10, 4))\n",
    "        plt.plot(time, segment, label='Signal')\n",
    "\n",
    "        # Highlight the event signal\n",
    "        event_start_idx = idx_list[0]\n",
    "        event_end_idx = idx_list[-1] + 1\n",
    "        event_segment = data[event_start_idx:event_end_idx]\n",
    "        event_times = np.arange(event_start_idx, event_end_idx) / (sample_freq * downsample_rate)\n",
    "        plt.plot(event_times, event_segment, color='red', label='Event')\n",
    "\n",
    "        # Plot the predicted next maxima as a green vertical line\n",
    "        next_maxima_index = int(event[slow_wave_key])\n",
    "        next_maxima_time = next_maxima_index / (sample_freq * downsample_rate)\n",
    "        plt.axvline(x=next_maxima_time, color='green', linestyle='--', label='Next Maxima')\n",
    "\n",
    "        # Add labels and legend\n",
    "        plt.xlabel('Time (seconds)')\n",
    "        plt.ylabel('Amplitude')\n",
    "        plt.title('Event Signal with Next Predicted Maxima')\n",
    "        plt.legend()\n",
    "        plt.show()\n",
    "\n",
    "# Example usage\n",
    "# Assuming `data` is your signal array and `events` is your list of event dictionaries\n",
    "plot_events(data, events, extra_signal_factor, sample_freq, downsample_rate)"
   ]
  },
  {
   "cell_type": "code",
   "execution_count": null,
   "id": "0e6f4dbc-ff0a-4ae0-bdd0-a7c69f68ff26",
   "metadata": {},
   "outputs": [],
   "source": []
  }
 ],
 "metadata": {
  "kernelspec": {
   "display_name": "Python 3 (ipykernel)",
   "language": "python",
   "name": "python3"
  },
  "language_info": {
   "codemirror_mode": {
    "name": "ipython",
    "version": 3
   },
   "file_extension": ".py",
   "mimetype": "text/x-python",
   "name": "python",
   "nbconvert_exporter": "python",
   "pygments_lexer": "ipython3",
   "version": "3.11.4"
  }
 },
 "nbformat": 4,
 "nbformat_minor": 5
}
