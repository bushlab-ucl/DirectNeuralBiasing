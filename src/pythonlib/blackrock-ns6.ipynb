{
 "cells": [
  {
   "cell_type": "code",
   "execution_count": null,
   "id": "7078928a-9150-4ec7-a994-02d67cd7eed4",
   "metadata": {},
   "outputs": [],
   "source": [
    "from pathlib import Path\n",
    "\n",
    "from scipy import signal\n",
    "import matplotlib.pyplot as plt\n",
    "import numpy as np\n",
    "\n",
    "import dnb\n",
    "import brpylib"
   ]
  },
  {
   "cell_type": "code",
   "execution_count": null,
   "id": "672c1a0e-c131-4ba5-910d-9cc607d6621f",
   "metadata": {},
   "outputs": [],
   "source": [
    "filename = '20190122-065346-004'\n",
    "\n",
    "datafile = f'data/{filename}.ns6'\n",
    "datapath = Path(datafile)\n",
    "\n",
    "start_time_s = 1.0\n",
    "plot_chan = 1\n",
    "\n",
    "elec_ids     = list(range(1, 97))      # 'all' is default for all (1-indexed)\n",
    "data_time_s  = 'all' # 2.0 # 'all' # 2.0                     # 'all' is default for all\n",
    "downsample   = 1        "
   ]
  },
  {
   "cell_type": "code",
   "execution_count": null,
   "id": "7d102ecc-ffdc-4296-88f8-56e98d86071e",
   "metadata": {},
   "outputs": [],
   "source": [
    "# Open file and extract headers\n",
    "nsx_file = brpylib.NsxFile(str(datapath))\n",
    "\n",
    "# Extract data - note: data will be returned based on *SORTED* elec_ids, see cont_data['elec_ids']\n",
    "cont_data = nsx_file.getdata(elec_ids, start_time_s, data_time_s, downsample, full_timestamps=True)\n",
    "\n",
    "# Close the nsx file now that all data is out\n",
    "nsx_file.close()"
   ]
  },
  {
   "cell_type": "markdown",
   "id": "a11b3aa7-33d6-4867-aa77-a338f13329da",
   "metadata": {},
   "source": [
    "## RAW"
   ]
  },
  {
   "cell_type": "code",
   "execution_count": null,
   "id": "fb3fe4eb-d404-4e43-a82d-6c5f4fe26095",
   "metadata": {},
   "outputs": [],
   "source": [
    "# Plot the data channel\n",
    "seg_id = 0\n",
    "ch_idx  = cont_data[\"elec_ids\"].index(plot_chan)\n",
    "t = cont_data[\"data_headers\"][seg_id][\"Timestamp\"] / cont_data[\"samp_per_s\"]"
   ]
  },
  {
   "cell_type": "code",
   "execution_count": null,
   "id": "49361f55-d3b7-45ab-9606-b942a44fc41f",
   "metadata": {},
   "outputs": [],
   "source": [
    "plt.plot(t, cont_data[\"data\"][seg_id][ch_idx])\n",
    "plt.axis([t[0], t[-1], min(cont_data[\"data\"][seg_id][ch_idx]), max(cont_data[\"data\"][seg_id][ch_idx])])\n",
    "plt.locator_params(axis=\"y\", nbins=20)\n",
    "plt.xlabel(\"Time (s)\")\n",
    "# plt.ylabel(\"Output (\" + nsx_file.extended_headers[hdr_idx]['Units'] + \")\")\n",
    "# plt.title(nsx_file.extended_headers[hdr_idx]['ElectrodeLabel'])\n",
    "plt.show()"
   ]
  },
  {
   "cell_type": "code",
   "execution_count": null,
   "id": "49147256-2f8b-4def-893c-694163c162e9",
   "metadata": {},
   "outputs": [],
   "source": [
    "f0_l = 0.25\n",
    "f0_h = 4.0\n",
    "fs = 30000\n",
    "min_threshold_signal = 90\n",
    "max_threshold_signal = 250\n",
    "refractory_period = 0 # unused\n",
    "delay_to_up_state = 0 # unused\n",
    "threshold_sinusoid = 100\n",
    "min_zero_crossing = int(0.25 * fs)\n",
    "max_zero_crossing = int(1.0 * fs)\n",
    "logging = False\n",
    "\n",
    "dnb_filter = dnb.PyFilter(\n",
    "    f0_l, f0_h, fs, min_threshold_signal, max_threshold_signal,\n",
    "    refractory_period, delay_to_up_state,\n",
    "    threshold_sinusoid, min_zero_crossing, max_zero_crossing,\n",
    "    logging\n",
    ")\n",
    "\n",
    "dnb_signal, detected_wave_idx = dnb_filter.filter_signal(cont_data[\"data\"][seg_id][ch_idx])"
   ]
  },
  {
   "cell_type": "code",
   "execution_count": null,
   "id": "14898a2e-64fe-4e24-8c1c-5ee3ce1dc428",
   "metadata": {},
   "outputs": [],
   "source": [
    "plt.plot(t, dnb_signal)\n",
    "plt.axis([t[0], t[-1], min(dnb_signal), max(dnb_signal)])\n",
    "plt.locator_params(axis=\"y\", nbins=20)\n",
    "plt.xlabel(\"Time (s)\")\n",
    "# plt.ylabel(\"Output (\" + nsx_file.extended_headers[hdr_idx]['Units'] + \")\")\n",
    "# plt.title(nsx_file.extended_headers[hdr_idx]['ElectrodeLabel'])\n",
    "plt.show()"
   ]
  },
  {
   "cell_type": "code",
   "execution_count": null,
   "id": "4d4fe674-b65a-4942-8acd-5e322b998612",
   "metadata": {},
   "outputs": [],
   "source": [
    "len(dnb_signal)"
   ]
  },
  {
   "cell_type": "code",
   "execution_count": null,
   "id": "378a451c-8dd4-4ac9-b193-f5827fc04aec",
   "metadata": {},
   "outputs": [],
   "source": [
    "len(detected_wave_idx)"
   ]
  },
  {
   "cell_type": "markdown",
   "id": "8f5fe3b2-620b-4ca1-af6b-02979e9ef0ab",
   "metadata": {},
   "source": [
    "## Scipy"
   ]
  },
  {
   "cell_type": "code",
   "execution_count": null,
   "id": "d7da66da-f795-4bf1-8dce-f3621e8dd656",
   "metadata": {},
   "outputs": [],
   "source": [
    "b, a = signal.butter(2, [0.25, 4], 'bp', fs=cont_data[\"samp_per_s\"])\n",
    "scipy_signal = signal.lfilter(b,a,cont_data[\"data\"][seg_id][ch_idx])"
   ]
  },
  {
   "cell_type": "code",
   "execution_count": null,
   "id": "037c16a1-9619-4f46-87fb-8add32ac719f",
   "metadata": {},
   "outputs": [],
   "source": [
    "plt.plot(t, scipy_signal)\n",
    "plt.axis([t[0], t[-1], min(scipy_signal), max(scipy_signal)])\n",
    "plt.locator_params(axis=\"y\", nbins=20)\n",
    "plt.xlabel(\"Time (s)\")\n",
    "# plt.ylabel(\"Output (\" + nsx_file.extended_headers[hdr_idx]['Units'] + \")\")\n",
    "# plt.title(nsx_file.extended_headers[hdr_idx]['ElectrodeLabel'])\n",
    "plt.show()"
   ]
  },
  {
   "cell_type": "code",
   "execution_count": null,
   "id": "a20e6dbf-89b2-446a-bb77-861650c8d644",
   "metadata": {},
   "outputs": [],
   "source": [
    "a"
   ]
  },
  {
   "cell_type": "code",
   "execution_count": null,
   "id": "448dee6d-6382-45b7-8f72-c5b44b6b83da",
   "metadata": {},
   "outputs": [],
   "source": [
    "b"
   ]
  },
  {
   "cell_type": "code",
   "execution_count": null,
   "id": "069027d7-8acd-4c02-8102-1a993c986f9c",
   "metadata": {},
   "outputs": [],
   "source": []
  }
 ],
 "metadata": {
  "kernelspec": {
   "display_name": "Python 3 (ipykernel)",
   "language": "python",
   "name": "python3"
  },
  "language_info": {
   "codemirror_mode": {
    "name": "ipython",
    "version": 3
   },
   "file_extension": ".py",
   "mimetype": "text/x-python",
   "name": "python",
   "nbconvert_exporter": "python",
   "pygments_lexer": "ipython3",
   "version": "3.11.4"
  }
 },
 "nbformat": 4,
 "nbformat_minor": 5
}
