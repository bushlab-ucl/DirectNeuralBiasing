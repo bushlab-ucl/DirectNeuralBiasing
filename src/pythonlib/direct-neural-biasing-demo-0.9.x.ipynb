{
 "cells": [
  {
   "cell_type": "markdown",
   "id": "0779de53-eb3f-4f08-8ca3-8ec53dd0b2d2",
   "metadata": {},
   "source": [
    "# Direct Neural Biasing - Python Demo"
   ]
  },
  {
   "cell_type": "markdown",
   "id": "db8f3694-e824-47e4-8098-fa06e7757828",
   "metadata": {},
   "source": [
    "## STEP 1 - Python Imports"
   ]
  },
  {
   "cell_type": "code",
   "execution_count": null,
   "id": "2fdd3bcb-ea83-45b0-a42d-42a6a20b082e",
   "metadata": {},
   "outputs": [],
   "source": [
    "from pathlib import Path\n",
    "from time import time\n",
    "import math\n",
    "import json\n",
    "import csv\n",
    "import re\n",
    "import gc\n",
    "\n",
    "from scipy import signal\n",
    "import matplotlib.pyplot as plt\n",
    "import numpy as np\n",
    "import pandas as pd\n",
    "\n",
    "import mne\n",
    "import direct_neural_biasing as dnb"
   ]
  },
  {
   "cell_type": "markdown",
   "id": "9e2d07dc-3354-4ce5-b84f-713974fb9843",
   "metadata": {},
   "source": [
    "## STEP 2 - Define Data Array"
   ]
  },
  {
   "cell_type": "markdown",
   "id": "4855326c-0e74-4c7e-b07e-2d73ac8b8e89",
   "metadata": {},
   "source": [
    "#### 2.1 - Read EDF File"
   ]
  },
  {
   "cell_type": "code",
   "execution_count": null,
   "id": "b1406084-629e-494d-b42f-2c9a512a531c",
   "metadata": {},
   "outputs": [],
   "source": [
    "file = './data/JS.edf' # place an EDF file in the /data dir\n",
    "channel = 1\n",
    "\n",
    "raw = mne.io.read_raw_edf(file)\n",
    "sample_freq = raw.info[\"sfreq\"]\n",
    "data_full = raw.get_data()[channel]"
   ]
  },
  {
   "cell_type": "code",
   "execution_count": null,
   "id": "b995cd3c-6235-4ab1-a97e-fb04dd10f2ec",
   "metadata": {},
   "outputs": [],
   "source": [
    "# Temporary hack that imports 'data' from CSV \n",
    "# data = pd.read_csv('signal.csv').values.flatten()"
   ]
  },
  {
   "cell_type": "markdown",
   "id": "a2595ccf-b5d0-46b1-b056-2ec2be9aadd6",
   "metadata": {},
   "source": [
    "#### 2.2 - Optional - Truncate data array for debug"
   ]
  },
  {
   "cell_type": "code",
   "execution_count": null,
   "id": "85ce9b68-0734-4ae4-b858-d625ce71cc1d",
   "metadata": {},
   "outputs": [],
   "source": [
    "# data = data_full[0:10000000]\n",
    "data = data_full"
   ]
  },
  {
   "cell_type": "markdown",
   "id": "dcf4cdfd-0233-4404-942a-f3c6fb7b6885",
   "metadata": {},
   "source": [
    "#### 2.3 - Optional write data to csv"
   ]
  },
  {
   "cell_type": "code",
   "execution_count": null,
   "id": "328cd321-1aeb-4bc4-bc52-ddff8e89e3ba",
   "metadata": {},
   "outputs": [],
   "source": [
    "filename = 'data.csv'\n",
    "np.savetxt(filename, data, delimiter=',')\n",
    "\n",
    "print(f'Array saved to {filename}')"
   ]
  },
  {
   "cell_type": "markdown",
   "id": "c5d4d1b5-da82-411d-80af-3a5dbc885f61",
   "metadata": {},
   "source": [
    "## STEP 3 - Setup SignalProcesser"
   ]
  },
  {
   "cell_type": "markdown",
   "id": "e4a74c5a-7b85-4e32-84cc-163541fc7eb7",
   "metadata": {},
   "source": [
    "#### 3.1 - Create Signal Processor"
   ]
  },
  {
   "cell_type": "code",
   "execution_count": null,
   "id": "6fc736c6-b3b0-4ec5-aad2-52216b200974",
   "metadata": {},
   "outputs": [],
   "source": [
    "verbose = True # verbose=True gives more verbose output in results object for debugging\n",
    "signal_processor = dnb.PySignalProcessor(verbose, sample_freq, channel)"
   ]
  },
  {
   "cell_type": "markdown",
   "id": "0806f5e4-883f-4ee1-803e-fde30c78849b",
   "metadata": {},
   "source": [
    "#### 3.2 - Create Filters"
   ]
  },
  {
   "cell_type": "code",
   "execution_count": null,
   "id": "04a4252f-6346-4f0f-996d-d2806975c566",
   "metadata": {},
   "outputs": [],
   "source": [
    "slow_wave_filter_id = 'bandpass_filter_slow_wave'\n",
    "f_low = 0.5 # cutoff_low\n",
    "f_high = 4.0 # cutoff_high\n",
    "\n",
    "signal_processor.add_filter(slow_wave_filter_id, f_low, f_high, sample_freq)"
   ]
  },
  {
   "cell_type": "code",
   "execution_count": null,
   "id": "2f5aefd9-280a-4643-9205-52c620480335",
   "metadata": {},
   "outputs": [],
   "source": [
    "ied_filter_id = 'bandpass_filter_ied'\n",
    "f_low = 80.0 # cutoff_low\n",
    "f_high = 120.0 # cutoff_high\n",
    "\n",
    "signal_processor.add_filter(ied_filter_id, f_low, f_high, sample_freq)"
   ]
  },
  {
   "cell_type": "markdown",
   "id": "48f24a54-fb16-41cb-922e-18a74518dd22",
   "metadata": {},
   "source": [
    "#### 3.3 - Create Slow Wave Detector"
   ]
  },
  {
   "cell_type": "code",
   "execution_count": null,
   "id": "94909be8-0d9c-4db8-be38-49927799f2f6",
   "metadata": {},
   "outputs": [],
   "source": [
    "slow_wave_detector_id = 'slow_wave_detector'\n",
    "wave_polarity = 'downwave' # 'donwave' or 'upwave' - for wave detection\n",
    "z_score_threshold = 2 # candidate wave amplitude threhsold\n",
    "use_sinusoidness = True\n",
    "sinusoidness_threshold = 0.7 # cosine wave correlation, between 0 and 1.\n",
    "\n",
    "signal_processor.add_wave_peak_detector(\n",
    "    slow_wave_detector_id,\n",
    "    slow_wave_filter_id, # which filtered_signal should the detector read from\n",
    "    z_score_threshold,\n",
    "    sinusoidness_threshold,\n",
    "    use_sinusoidness,\n",
    "    wave_polarity,\n",
    ")"
   ]
  },
  {
   "cell_type": "markdown",
   "id": "502e2323-3610-45ec-92c0-7d98c1d4b128",
   "metadata": {},
   "source": [
    "#### 3.4 - Create IED Detector"
   ]
  },
  {
   "cell_type": "code",
   "execution_count": null,
   "id": "1fea61dc-ed48-4381-9b99-2a25bd3e0cd9",
   "metadata": {},
   "outputs": [],
   "source": [
    "# OLD, BASIC THRESHOLD DETECTOR METHOD\n",
    "# ied_detector_id = 'ied_detector'\n",
    "# z_score_threshold = 3.0 # threhsold for candidate detection event\n",
    "# buffer_size = 5 # length of buffer - to manage noise resistance\n",
    "# sensitivy = 0.5 # Between 0 and 1. Ratio of values in buffer OVER threshold required to trigger an 'IED Detected' event.\n",
    "\n",
    "# signal_processor.add_threshold_detector(\n",
    "#     ied_detector_id,\n",
    "#     ied_filter_id, # which filtered_signal should the detector read from\n",
    "#     z_score_threshold,\n",
    "#     buffer_size,\n",
    "#     sensitivy\n",
    "# )\n",
    "\n",
    "# NEW, WAVE DETECTOR METHOD\n",
    "ied_detector_id = 'ied_detector'\n",
    "wave_polarity = 'upwave' # 'donwave' or 'upwave' - for wave detection\n",
    "z_score_threshold = 1.5 # candidate wave amplitude threhsold\n",
    "use_sinusoidness = False\n",
    "sinusoidness_threshold = 0 # Not used if false, but still needs a value\n",
    "\n",
    "signal_processor.add_wave_peak_detector(\n",
    "    ied_detector_id,\n",
    "    ied_filter_id, # which filtered_signal should the detector read from\n",
    "    z_score_threshold,\n",
    "    sinusoidness_threshold,\n",
    "    use_sinusoidness,\n",
    "    wave_polarity,\n",
    ")"
   ]
  },
  {
   "cell_type": "markdown",
   "id": "1f9ae31f-3fba-4fc6-83da-57a058b89ca3",
   "metadata": {},
   "source": [
    "#### 3.5 - Create Pulse Trigger"
   ]
  },
  {
   "cell_type": "code",
   "execution_count": null,
   "id": "bb280157-50e2-40b9-8dca-38a60501ab39",
   "metadata": {},
   "outputs": [],
   "source": [
    "trigger_id = 'pulse_trigger'\n",
    "inhibition_cooldown_ms = 2000 # ms cooldown after IED detection\n",
    "pulse_cooldown_ms = 2000 # ms cooldown after pulse event\n",
    "\n",
    "signal_processor.add_pulse_trigger(\n",
    "    trigger_id,\n",
    "    slow_wave_detector_id, # which detector triggers a pulse - SlowWave in this case\n",
    "    ied_detector_id, # which detector triggers an inhibition cooldown - IED in this case\n",
    "    inhibition_cooldown_ms,\n",
    "    pulse_cooldown_ms\n",
    ")"
   ]
  },
  {
   "cell_type": "markdown",
   "id": "222556be-8236-4976-b73e-a7714b604075",
   "metadata": {},
   "source": [
    "## STEP 4 - Analyse Signal"
   ]
  },
  {
   "cell_type": "markdown",
   "id": "7de9da02-2313-4938-a2d2-8a505020b65f",
   "metadata": {},
   "source": [
    "#### 4.1 - Run"
   ]
  },
  {
   "cell_type": "code",
   "execution_count": null,
   "id": "512a2205-73ab-44f0-8b8c-789fce33e6f1",
   "metadata": {},
   "outputs": [],
   "source": [
    "from collections import deque\n",
    "import time\n",
    "\n",
    "EVENT_TO_DETECT = 'triggers:pulse_trigger:triggered' # SLOW WAVES\n",
    "# EVENT_TO_DETECT = f'detectors:{ied_detector_id}:detected' # IEDs\n",
    "\n",
    "def data_generator(data, chunk_size):\n",
    "    for i in range(0, len(data), chunk_size):\n",
    "        print(f'processing chunk {i // chunk_size + 1} of size: {chunk_size}')\n",
    "        yield data[i:i + chunk_size]\n",
    "\n",
    "def process_chunk(signal_processor, data_chunk):\n",
    "    return signal_processor.run_chunk(data_chunk)\n",
    "\n",
    "def run_in_series(processor, data_generator, chunk_size, context_size):\n",
    "    buffer_size = (context_size * 2) + 1\n",
    "    event_buffer = deque(maxlen=buffer_size)  # Ring buffer with context samples\n",
    "    results = []  # List to hold the final output arrays\n",
    "    \n",
    "    # Reset index to zero each time you re-analyse the data\n",
    "    processor.reset_index()\n",
    "    \n",
    "    chunk_count = 0\n",
    "    detected_events = 0\n",
    "    \n",
    "    for chunk in data_generator:\n",
    "        if len(chunk) > 0:\n",
    "            chunk_count += 1\n",
    "            start_time = time.time()  # Start timer before analysis\n",
    "            chunk_output = process_chunk(processor, chunk)\n",
    "            duration = time.time() - start_time\n",
    "\n",
    "            print(f\"Processed chunk {chunk_count} in {duration:.4f}s\")\n",
    "\n",
    "            for sample_result in chunk_output:\n",
    "                event_buffer.append(sample_result)\n",
    "\n",
    "                # If the buffer is full, analyze the middle sample and remove the oldest sample\n",
    "                if len(event_buffer) >= buffer_size:\n",
    "                    # Check if the sample in the middle of the buffer is an event\n",
    "                    middle_sample = event_buffer[context_size]\n",
    "                    \n",
    "                    # If the middle sample is an event, store the context\n",
    "                    if middle_sample.get(EVENT_TO_DETECT, 0.0) == 1.0: # SET EVENT_TO_DETECT ABOVE TO DETECT SLOW WAVES OR IEDS\n",
    "                        detected_events += 1\n",
    "                        print(f\"Detected event {detected_events}\")\n",
    "\n",
    "                        # Append the entire buffer to results\n",
    "                        results.append(list(event_buffer))\n",
    "\n",
    "                    # Pop the oldest sample\n",
    "                    event_buffer.popleft()\n",
    "\n",
    "    return results\n",
    "\n",
    "# Example usage\n",
    "chunk_size = int(1e5)  # Chunk size for processing\n",
    "context_size = 2000  # Number of samples to include as context around events\n",
    "data_gen = data_generator(data, chunk_size)\n",
    "results = run_in_series(signal_processor, data_gen, chunk_size, context_size)\n",
    "\n",
    "# The results object now contains the final output - a list of lists\n",
    "# Each list contains <context_size> samples either side of an event\n",
    "# i.e. if context_size is 2e4 (2000), each list will be 4001 samples long, and the event will be at sample index 2000"
   ]
  },
  {
   "cell_type": "markdown",
   "id": "c0a2d4be-820d-4c8b-a291-65401e0f16ad",
   "metadata": {},
   "source": [
    "#### 4.2 - Example Sample Output"
   ]
  },
  {
   "cell_type": "markdown",
   "id": "9aa0fd81-3d4e-4407-98d8-443ea45e9b4a",
   "metadata": {},
   "source": [
    "#### 4.3 - Save Output as CSV"
   ]
  },
  {
   "cell_type": "code",
   "execution_count": null,
   "id": "b1499636-4a76-47d3-8262-ef544577c158",
   "metadata": {},
   "outputs": [],
   "source": [
    "len(results)"
   ]
  },
  {
   "cell_type": "code",
   "execution_count": null,
   "id": "00830e26-0d2a-4bc9-8ccf-5d7617d8df8e",
   "metadata": {},
   "outputs": [],
   "source": [
    "# Define the output file name\n",
    "output_file = 'output.csv'\n",
    "\n",
    "# Create flattened version of results\n",
    "flat_results = [\n",
    "    x\n",
    "    for xs in results\n",
    "    for x in xs\n",
    "]\n",
    "\n",
    "# Collect all unique keys from all dictionaries in the list\n",
    "unique_keys = set()\n",
    "for row in flat_results:\n",
    "    unique_keys.update(row.keys())\n",
    "\n",
    "# Convert the set of unique keys to a list and sort it to ensure consistent column order\n",
    "headers = sorted(unique_keys)\n",
    "\n",
    "# Write the data to a CSV file\n",
    "with open(output_file, mode='w', newline='') as file:\n",
    "    writer = csv.DictWriter(file, fieldnames=headers)\n",
    "    writer.writeheader()  # Write the header row\n",
    "    for row in flat_results:\n",
    "        # Ensure each row has all headers, filling missing values with None or an empty string\n",
    "        writer.writerow({key: row.get(key, None) for key in headers})\n",
    "\n",
    "print(f'Data successfully written to {output_file}')"
   ]
  },
  {
   "cell_type": "markdown",
   "id": "086fbd15-2948-4cd7-99be-b6222789d1f4",
   "metadata": {},
   "source": [
    "## STEP 5 - Find Detected Events & Display JSON"
   ]
  },
  {
   "cell_type": "markdown",
   "id": "e9d22b19-9918-4e2d-b7e7-e124beffbfee",
   "metadata": {},
   "source": [
    "#### 5.1 - Focus on Events Only"
   ]
  },
  {
   "cell_type": "code",
   "execution_count": null,
   "id": "9ff9357d-5835-45f9-a4a4-7851bfffdd6c",
   "metadata": {
    "tags": []
   },
   "outputs": [],
   "source": [
    "events = [result[context_size] for result in results]"
   ]
  },
  {
   "cell_type": "markdown",
   "id": "064f66dc-882c-4b04-acbe-aedf380e5896",
   "metadata": {},
   "source": [
    "#### 5.2 - Dispay JSON with nice formatting"
   ]
  },
  {
   "cell_type": "code",
   "execution_count": null,
   "id": "e2092464-2aa1-4c6d-85a8-d6586498fc9e",
   "metadata": {},
   "outputs": [],
   "source": [
    "# Initialize an empty dictionary to hold structured data\n",
    "structured_data = {}\n",
    "\n",
    "# Iterate through each event in the list\n",
    "for idx, event in enumerate(events):\n",
    "    event_key = f'event_{idx}'\n",
    "    structured_data[event_key] = {'detectors': {}, 'global': {}, 'filters': {}, 'triggers': {}}\n",
    "    \n",
    "    for key, value in event.items():\n",
    "        category, sub_key = key.split(':', 1)\n",
    "        \n",
    "        if category == 'detectors':\n",
    "            detector_type, detector_key = sub_key.split(':', 1)\n",
    "            if detector_type not in structured_data[event_key]['detectors']:\n",
    "                structured_data[event_key]['detectors'][detector_type] = {}\n",
    "            structured_data[event_key]['detectors'][detector_type][detector_key] = value\n",
    "        \n",
    "        elif category == 'filters':\n",
    "            filter_type, filter_key = sub_key.split(':', 1)\n",
    "            if filter_type not in structured_data[event_key]['filters']:\n",
    "                structured_data[event_key]['filters'][filter_type] = {}\n",
    "            structured_data[event_key]['filters'][filter_type][filter_key] = value\n",
    "        \n",
    "        elif category == 'triggers':\n",
    "            trigger_type, trigger_key = sub_key.split(':', 1)\n",
    "            if trigger_type not in structured_data[event_key]['triggers']:\n",
    "                structured_data[event_key]['triggers'][trigger_type] = {}\n",
    "            structured_data[event_key]['triggers'][trigger_type][trigger_key] = value\n",
    "        \n",
    "        elif category == 'global':\n",
    "            structured_data[event_key]['global'][sub_key] = value\n",
    "\n",
    "# Convert back to float NaN where necessary\n",
    "def convert_nan(value):\n",
    "    return value if not isinstance(value, float) or not math.isnan(value) else float('nan')\n",
    "\n",
    "for event_key, categories in structured_data.items():\n",
    "    for category_key, sub_categories in categories.items():\n",
    "        if isinstance(sub_categories, dict):\n",
    "            for sub_category_key, values in sub_categories.items():\n",
    "                if isinstance(values, dict):\n",
    "                    for value_key, value in values.items():\n",
    "                        structured_data[event_key][category_key][sub_category_key][value_key] = convert_nan(value)\n",
    "                else:\n",
    "                    structured_data[event_key][category_key][sub_category_key] = convert_nan(values)\n",
    "\n",
    "# Print the final structured data with NaN values converted - if you want\n",
    "# print(json.dumps(structured_data, indent=4))"
   ]
  },
  {
   "cell_type": "markdown",
   "id": "9f631d48-18b7-4fd2-8104-145ce66722de",
   "metadata": {},
   "source": [
    "## STEP 6 - Visualise Detected Events"
   ]
  },
  {
   "cell_type": "markdown",
   "id": "519eb427-83b4-4dcb-9f5a-847b9d24f270",
   "metadata": {},
   "source": [
    "#### 6.1 - Print all samples superimposed"
   ]
  },
  {
   "cell_type": "code",
   "execution_count": null,
   "id": "dc4ba24e-d5bd-4bbd-8379-a3c1c31e22e0",
   "metadata": {},
   "outputs": [],
   "source": [
    "import matplotlib.pyplot as plt\n",
    "import numpy as np\n",
    "\n",
    "def plot_events_with_context(events, sample_freq, context_size):\n",
    "    plt.figure(figsize=(10, 6))\n",
    "    \n",
    "    next_maxima_line_alpha = 5 / len(events) # to make plots nicer\n",
    "\n",
    "    for segment in events:\n",
    "        # Extract the signal segment to plot\n",
    "        segment_data = [sample.get('detectors:slow_wave_detector:statistics:z_score', 0.0) for sample in segment] # 'filters:bandpass_filter_slow_wave:filtered_sample'\n",
    "        normalized_time = np.arange(-context_size, context_size + 1) / sample_freq\n",
    "\n",
    "        # Plot the signal segment\n",
    "        plt.plot(normalized_time, segment_data, label='Signal', alpha=0.3)\n",
    "\n",
    "        # Extract the indices\n",
    "        first_sample_index = segment[0].get('global:index')\n",
    "        event_sample = segment[context_size]\n",
    "        downwave_start_idx = int(event_sample.get('detectors:slow_wave_detector:wave_start_index', -1))\n",
    "        downwave_end_idx = int(event_sample.get('detectors:slow_wave_detector:wave_end_index', -1))\n",
    "        predicted_next_maxima_idx = int(event_sample.get('detectors:slow_wave_detector:predicted_next_maxima_index', -1))\n",
    "\n",
    "        # Normalize indices\n",
    "        normalized_downwave_start_idx = int(downwave_start_idx - first_sample_index)\n",
    "        normalized_downwave_end_idx = int(downwave_end_idx - first_sample_index)\n",
    "        normalized_predicted_next_maxima_idx = int(predicted_next_maxima_idx - first_sample_index)\n",
    "\n",
    "        # Ensure the indices are within the segment bounds\n",
    "        if normalized_downwave_start_idx < 0 or normalized_downwave_end_idx >= len(segment_data):\n",
    "            continue\n",
    "\n",
    "        # Highlight the event signal\n",
    "        event_segment_data = segment_data[normalized_downwave_start_idx:normalized_predicted_next_maxima_idx + 1]\n",
    "        normalized_event_times = normalized_time[normalized_downwave_start_idx:normalized_predicted_next_maxima_idx + 1]\n",
    "\n",
    "        # Plot the event signal\n",
    "        plt.plot(normalized_event_times, event_segment_data, color='red', alpha=0.5)\n",
    "\n",
    "        # Plot the predicted next maxima as a green vertical line at the predicted maxima time\n",
    "        plt.axvline(x=normalized_time[normalized_predicted_next_maxima_idx], color='green', linestyle='-', alpha=next_maxima_line_alpha)\n",
    "\n",
    "    # Add labels and legend\n",
    "    plt.xlabel('Time (seconds)')\n",
    "    plt.ylabel('Amplitude - Z Score')\n",
    "    plt.title('Overlay of Event Signals with Aligned Detection - End of Downwave')\n",
    "    plt.ticklabel_format(useOffset=False)\n",
    "    plt.legend(['Signal', 'Event', 'Next Maxima'])\n",
    "    plt.show()\n",
    "\n",
    "# Example usage\n",
    "sample_freq = 512.0  # Sample frequency\n",
    "plot_events_with_context(results, sample_freq, context_size)\n"
   ]
  },
  {
   "cell_type": "markdown",
   "id": "0a179f93-8d4f-49af-b7d3-b67182ef2e71",
   "metadata": {},
   "source": [
    "#### 6.2 - Print Individual events"
   ]
  },
  {
   "cell_type": "code",
   "execution_count": null,
   "id": "a3506dac-0753-4712-9b5d-4264a6243b6d",
   "metadata": {},
   "outputs": [],
   "source": [
    "import matplotlib.pyplot as plt\n",
    "import numpy as np\n",
    "\n",
    "def plot_events_with_context(events, sample_freq, context_size):\n",
    "    for segment in results:\n",
    "        plt.figure(figsize=(10, 6))\n",
    "        \n",
    "        # Extract the signal segment to plot\n",
    "        segment_data = [sample.get('detectors:slow_wave_detector:statistics:z_score', 0.0) for sample in segment] # 'filters:bandpass_filter_slow_wave:filtered_sample'\n",
    "        normalized_time = np.arange(-context_size, context_size + 1) / sample_freq\n",
    "\n",
    "        # Plot the signal segment\n",
    "        plt.plot(normalized_time, segment_data, label='Signal', alpha=0.3)\n",
    "\n",
    "        # Extract the indices\n",
    "        first_sample_index = segment[0].get('global:index')\n",
    "        event_sample = segment[context_size]\n",
    "        downwave_start_idx = int(event_sample.get('detectors:slow_wave_detector:wave_start_index', -1))\n",
    "        downwave_end_idx = int(event_sample.get('detectors:slow_wave_detector:wave_end_index', -1))\n",
    "        predicted_next_maxima_idx = int(event_sample.get('detectors:slow_wave_detector:predicted_next_maxima_index', -1))\n",
    "\n",
    "        # Normalize indices\n",
    "        normalized_downwave_start_idx = int(downwave_start_idx - first_sample_index)\n",
    "        normalized_downwave_end_idx = int(downwave_end_idx - first_sample_index)\n",
    "        normalized_predicted_next_maxima_idx = int(predicted_next_maxima_idx - first_sample_index)\n",
    "\n",
    "        # Ensure the indices are within the segment bounds\n",
    "        if normalized_downwave_start_idx < 0 or normalized_downwave_end_idx >= len(segment_data):\n",
    "            continue\n",
    "\n",
    "        # Highlight the event signal\n",
    "        event_segment_data = segment_data[normalized_downwave_start_idx:normalized_downwave_end_idx + 1]\n",
    "        normalized_event_times = normalized_time[normalized_downwave_start_idx:normalized_downwave_end_idx + 1]\n",
    "\n",
    "        # Plot the event signal\n",
    "        plt.plot(normalized_event_times, event_segment_data, color='red', alpha=0.5)\n",
    "\n",
    "        # Plot the predicted next maxima as a green vertical line at the predicted maxima time\n",
    "        plt.axvline(x=normalized_time[normalized_predicted_next_maxima_idx], color='green', linestyle='--', alpha=0.5)\n",
    "\n",
    "        # Add labels and legend\n",
    "        plt.xlabel('Time (seconds)')\n",
    "        plt.ylabel('Amplitude')\n",
    "        plt.title('Overlay of Event Signals with Aligned Detection - End of Downwave')\n",
    "        plt.ticklabel_format(useOffset=False)\n",
    "        plt.legend(['Signal', 'Event', 'Next Maxima'])\n",
    "        plt.show()\n",
    "\n",
    "# Example usage\n",
    "sample_freq = 512.0  # Sample frequency\n",
    "plot_events_with_context(results, sample_freq, context_size)\n"
   ]
  },
  {
   "cell_type": "markdown",
   "id": "108cebe0-538a-416b-beaa-91af23b335c1",
   "metadata": {},
   "source": [
    "## Additional - STEP 7 - Check Filtered Signal Against Scipy"
   ]
  },
  {
   "cell_type": "markdown",
   "id": "4a41a1bf-612a-439a-bd42-26234707e536",
   "metadata": {},
   "source": [
    "#### 7.1 - Prepare Signal Arrays"
   ]
  },
  {
   "cell_type": "code",
   "execution_count": null,
   "id": "55e7621c-b58f-40fa-87ce-3f41b833556b",
   "metadata": {},
   "outputs": [],
   "source": [
    "start_index = int(results[0][0].get('global:index')) # start index if first segment\n",
    "end_index = int(results[0][-1].get('global:index')) # end index of first segment\n",
    "\n",
    "raw_signal = data[start_index:end_index + 1]\n",
    "dnb_raw_signal = [sample['global:raw_sample'] for sample in results[0]]\n",
    "dnb_slow_wave_filtered_signal = [sample[f'filters:{slow_wave_filter_id}:filtered_sample'] for sample in results[0]]\n",
    "dnb_ied_filtered_signal = [sample[f'filters:{ied_filter_id}:filtered_sample'] for sample in results[0]]"
   ]
  },
  {
   "cell_type": "markdown",
   "id": "0983f761-227c-4384-8cbe-69ceca3c92b0",
   "metadata": {},
   "source": [
    "#### 7.2 - Create Scipy Filtered Signals"
   ]
  },
  {
   "cell_type": "markdown",
   "id": "3a162a88-6454-483b-b674-4ffd68ceb8ee",
   "metadata": {},
   "source": [
    "##### 7.2.3 - SlowWave Filter Test"
   ]
  },
  {
   "cell_type": "code",
   "execution_count": null,
   "id": "5bfe203c-ad76-4167-ac5e-b54dd2446322",
   "metadata": {},
   "outputs": [],
   "source": [
    "# SciPy filtering parameters\n",
    "order = 2\n",
    "lowcut = 0.5  # Low cut frequency in Hz\n",
    "highcut = 4.0  # High cut frequency in Hz\n",
    "\n",
    "# Design a Butterworth bandpass filter using SciPy\n",
    "b, a = signal.butter(order, [lowcut, highcut], 'bp', fs= sample_freq)\n",
    "\n",
    "# Apply the filter to the raw signal using SciPy\n",
    "scipy_filtered_signal_slowwave_test = signal.lfilter(b, a, raw_signal)"
   ]
  },
  {
   "cell_type": "markdown",
   "id": "88c3c2ed-dbea-457f-9658-209183f3c1df",
   "metadata": {},
   "source": [
    "##### 7.2.1 - IED Filter Test"
   ]
  },
  {
   "cell_type": "code",
   "execution_count": null,
   "id": "db0351d0-749d-40b4-bb92-b983d169dada",
   "metadata": {},
   "outputs": [],
   "source": [
    "# SciPy filtering parameters\n",
    "order = 2\n",
    "lowcut = 80.0  # Low cut frequency in Hz\n",
    "highcut = 120.0  # High cut frequency in Hz\n",
    "\n",
    "# Design a Butterworth bandpass filter using SciPy\n",
    "b, a = signal.butter(order, [lowcut, highcut], 'bp', fs= sample_freq)\n",
    "\n",
    "# Apply the filter to the raw signal using SciPy\n",
    "scipy_filtered_signal_ied_test = signal.lfilter(b, a, raw_signal)"
   ]
  },
  {
   "cell_type": "markdown",
   "id": "64e2e8e6-e409-41bb-b194-338495032b76",
   "metadata": {},
   "source": [
    "#### 7.3 - Truncate Signals for Easier Debug"
   ]
  },
  {
   "cell_type": "code",
   "execution_count": null,
   "id": "cae4b150-779e-41f8-a0f1-5a91a4e0feeb",
   "metadata": {},
   "outputs": [],
   "source": [
    "start_idx = 0\n",
    "end_idx = 4001\n",
    "\n",
    "raw_signal_truncated = raw_signal[start_idx:end_idx]\n",
    "dnb_raw_signal_truncated = dnb_raw_signal[start_idx:end_idx]\n",
    "dnb_slow_wave_filtered_signal_truncated = dnb_slow_wave_filtered_signal[start_idx:end_idx]\n",
    "dnb_ied_filtered_signal_truncated = dnb_ied_filtered_signal[start_idx:end_idx]\n",
    "scipy_filtered_signal_slowwave_test_truncated = scipy_filtered_signal_slowwave_test[start_idx:end_idx]\n",
    "scipy_filtered_signal_ied_test_truncated = scipy_filtered_signal_ied_test[start_idx:end_idx]"
   ]
  },
  {
   "cell_type": "markdown",
   "id": "aca9238d-5523-46a2-a29c-5ff3665b617a",
   "metadata": {},
   "source": [
    "#### 7.4 - Plot Graphs"
   ]
  },
  {
   "cell_type": "code",
   "execution_count": null,
   "id": "5c4577d6-3726-4ada-a171-f8284c6675cf",
   "metadata": {},
   "outputs": [],
   "source": [
    "# Convert sample indices to time in seconds\n",
    "time = np.arange(len(raw_signal_truncated)) / sample_freq\n",
    "\n",
    "# Plot the four graphs\n",
    "fig, axs = plt.subplots(6, 1, figsize=(12, 16), sharex=True)\n",
    "\n",
    "# Plot the raw signal\n",
    "axs[0].plot(time, raw_signal_truncated, label='Raw Signal')\n",
    "axs[0].set_title('Raw Signal')\n",
    "axs[0].set_ylabel('Amplitude')\n",
    "axs[0].legend()\n",
    "\n",
    "# Plot the dnb_raw signal\n",
    "axs[1].plot(time, dnb_raw_signal_truncated, label='DNB - Raw Signal')\n",
    "axs[1].set_title('DNB - Raw Signal')\n",
    "axs[1].set_ylabel('Amplitude')\n",
    "axs[1].legend()\n",
    "\n",
    "# Plot the dnb_filtered signal\n",
    "axs[2].plot(time, dnb_slow_wave_filtered_signal_truncated, label='DNB - SlowWave Filtered Signal', color='orange')\n",
    "axs[2].set_title('DNB - SlowWave Filtered Signal')\n",
    "axs[2].set_ylabel('Amplitude')\n",
    "axs[2].legend()\n",
    "\n",
    "# Plot the sciPy_filtered signal\n",
    "axs[3].plot(time, scipy_filtered_signal_slowwave_test_truncated, label='SciPy - SlowWave Filtered Signal', color='green')\n",
    "axs[3].set_title('SciPy - SlowWave Filtered Signal')\n",
    "axs[3].set_xlabel('Time (seconds)')\n",
    "axs[3].set_ylabel('Amplitude')\n",
    "axs[3].legend()\n",
    "\n",
    "# Plot the dnb_filtered signal\n",
    "axs[4].plot(time, dnb_ied_filtered_signal_truncated, label='DNB - IED Filtered Signal', color='orange')\n",
    "axs[4].set_title('DNB - IED Filtered Signal')\n",
    "axs[4].set_ylabel('Amplitude')\n",
    "axs[4].legend()\n",
    "\n",
    "# Plot the sciPy_filtered signal\n",
    "axs[5].plot(time, scipy_filtered_signal_ied_test_truncated, label='SciPy - IED Filtered Signal', color='green')\n",
    "axs[5].set_title('SciPy - IED Filtered Signal')\n",
    "axs[5].set_xlabel('Time (seconds)')\n",
    "axs[5].set_ylabel('Amplitude')\n",
    "axs[5].legend()\n",
    "\n",
    "# Show the plots\n",
    "plt.tight_layout()\n",
    "plt.show()"
   ]
  },
  {
   "cell_type": "markdown",
   "id": "007192e2-d029-43cb-a29d-a2c09d2ca4ec",
   "metadata": {},
   "source": [
    "## DEBUG - VISUALISE IED EVENTS"
   ]
  },
  {
   "cell_type": "markdown",
   "id": "2e83361c-3249-41c6-b63f-a7a3b74e6edf",
   "metadata": {},
   "source": [
    "#### NOTE - This is mainly for Dan H and most of it may not run / run as you expect"
   ]
  },
  {
   "cell_type": "markdown",
   "id": "63431a45-342b-4677-bcff-dcf14825e701",
   "metadata": {},
   "source": [
    "#### NOTE - There is no cooldown on IED detection, so each IED results in multiple 'detections'"
   ]
  },
  {
   "cell_type": "code",
   "execution_count": null,
   "id": "a57ffa6b-7f55-4495-82ac-894a8fedda2d",
   "metadata": {},
   "outputs": [],
   "source": [
    "ied_detections = [item for item in out if item[f'detectors:{ied_detector_id}:detected'] == 1.0]"
   ]
  },
  {
   "cell_type": "code",
   "execution_count": null,
   "id": "0079d159-7e5e-40d8-889d-b1e768fb3169",
   "metadata": {},
   "outputs": [],
   "source": [
    "signal_padding_factor = 2\n",
    "\n",
    "# Function to extract indices and plot each event\n",
    "def plot_ied_events(data, detections, signal_padding_factor, sample_freq):\n",
    "    for detection in detections:\n",
    "        # Extract the index of the IED event\n",
    "        ied_idx = detection.get('global:index')\n",
    "\n",
    "        # Debugging the index\n",
    "        print(f\"ied_idx: {ied_idx}\")\n",
    "\n",
    "        # Determine the range for plotting\n",
    "        extra_length = signal_padding_factor * sample_freq\n",
    "        start_idx = int(max(0, ied_idx - extra_length))\n",
    "        end_idx = int(min(len(data), ied_idx + extra_length))\n",
    "\n",
    "        # Extract the signal segment to plot\n",
    "        segment = data[start_idx:end_idx]\n",
    "\n",
    "        # Convert indices to time in seconds\n",
    "        time = np.arange(start_idx, end_idx) / sample_freq\n",
    "\n",
    "        # Debugging lengths\n",
    "        print(f\"start_idx: {start_idx}, end_idx: {end_idx}\")\n",
    "        print(f\"segment length: {len(segment)}, time length: {len(time)}\")\n",
    "\n",
    "        # Plot the signal segment\n",
    "        plt.figure(figsize=(10, 4))\n",
    "        plt.plot(time, segment, label='Signal')\n",
    "\n",
    "        # Highlight the IED event\n",
    "        ied_time = ied_idx / sample_freq\n",
    "        plt.axvline(x=ied_time, color='red', linestyle='--', label='IED Event')\n",
    "\n",
    "        # Add labels and legend\n",
    "        plt.xlabel('Time (seconds)')\n",
    "        plt.ylabel('Amplitude')\n",
    "        plt.title('IED Event Signal')\n",
    "        plt.ticklabel_format(useOffset=False)\n",
    "        plt.legend()\n",
    "        plt.show()\n",
    "\n",
    "# Example usage\n",
    "# Assuming `data` is your signal array and `events` is your list of event dictionaries\n",
    "plot_ied_events(dnb_ied_filtered_signal, ied_detections, signal_padding_factor, sample_freq)"
   ]
  },
  {
   "cell_type": "markdown",
   "id": "353a3410-daeb-4ff8-ad69-72a57f600d82",
   "metadata": {},
   "source": [
    "#### print all events on the same timeline"
   ]
  },
  {
   "cell_type": "code",
   "execution_count": null,
   "id": "2618e621-6c68-4c1f-a20d-b0408450357e",
   "metadata": {},
   "outputs": [],
   "source": [
    "import numpy as np\n",
    "import matplotlib.pyplot as plt\n",
    "\n",
    "signal_padding_factor = 10\n",
    "\n",
    "# Function to extract indices and plot all events on top of each other\n",
    "def plot_trigger_events(data, events, signal_padding_factor, sample_freq):\n",
    "    plt.figure(figsize=(10, 6))\n",
    "    \n",
    "    for event in events:\n",
    "        # Extract the indices from the event keys\n",
    "        downwave_start_idx = int(event.get('detectors:slow_wave_detector:downwave_start_index', -1))\n",
    "        downwave_end_idx = int(event.get('detectors:slow_wave_detector:downwave_end_index', -1))\n",
    "        predicted_next_maxima_idx = int(event.get('detectors:slow_wave_detector:predicted_next_maxima_index', -1))\n",
    "\n",
    "        if downwave_start_idx == -1 or downwave_end_idx == -1 or predicted_next_maxima_idx == -1:\n",
    "            continue  # Skip if any of the indices are invalid\n",
    "\n",
    "        # Determine the range for plotting\n",
    "        event_length = downwave_end_idx - downwave_start_idx\n",
    "        extra_length = event_length * signal_padding_factor\n",
    "        start_idx = max(0, downwave_start_idx - extra_length)\n",
    "        end_idx = min(len(data), downwave_end_idx + extra_length)\n",
    "\n",
    "        # Extract the signal segment to plot\n",
    "        segment = data[start_idx:end_idx]\n",
    "\n",
    "        # Convert indices to time in seconds\n",
    "        time = np.arange(start_idx, end_idx) / sample_freq\n",
    "\n",
    "        # Plot the signal segment\n",
    "        plt.plot(time, segment, label='Signal', alpha=0.3)\n",
    "\n",
    "        # Highlight the event signal\n",
    "        event_times = np.arange(downwave_start_idx, downwave_end_idx) / sample_freq\n",
    "        event_segment = data[downwave_start_idx:downwave_end_idx]\n",
    "\n",
    "        # Ensure the lengths of event_times and event_segment match\n",
    "        if len(event_times) != len(event_segment):\n",
    "            continue\n",
    "\n",
    "        plt.plot(event_times, event_segment, color='red', alpha=0.5)\n",
    "\n",
    "        # Plot the predicted next maxima as a green vertical line\n",
    "        next_maxima_time = predicted_next_maxima_idx / sample_freq\n",
    "        plt.axvline(x=next_maxima_time, color='green', linestyle='--', alpha=0.5)\n",
    "\n",
    "    # Add labels and legend\n",
    "    plt.xlabel('Time (seconds)')\n",
    "    plt.ylabel('Amplitude')\n",
    "    plt.title('Overlay of Event Signals with Next Predicted Maxima')\n",
    "    plt.ticklabel_format(useOffset=False)\n",
    "    plt.legend(['Signal', 'Event', 'Next Maxima'])\n",
    "    plt.show()\n",
    "\n",
    "# Example usage\n",
    "# Assuming `data` is your signal array and `events` is your list of event dictionaries\n",
    "plot_trigger_events(dnb_slow_wave_filtered_signal, events[0:50], signal_padding_factor, sample_freq)\n"
   ]
  },
  {
   "cell_type": "markdown",
   "id": "ea3a9255-ad8f-4c45-b942-b1674b60257c",
   "metadata": {},
   "source": [
    "## read in pre-processed file"
   ]
  },
  {
   "cell_type": "code",
   "execution_count": null,
   "id": "7f14cc1a-b351-4461-9f42-7b8c255ecc57",
   "metadata": {},
   "outputs": [],
   "source": [
    "import csv\n",
    "import ast\n",
    "import json\n",
    "import matplotlib.pyplot as plt\n",
    "import numpy as np\n",
    "\n",
    "def read_output_csv(file_path):\n",
    "    all_events = []\n",
    "    current_events = []\n",
    "    previous_index = -1\n",
    "\n",
    "    with open(file_path, 'r') as file:\n",
    "        lines = file.readlines()\n",
    "        for line in lines:\n",
    "            try:\n",
    "                # Each line is a complete JSON dictionary\n",
    "                event = json.loads(line.strip())\n",
    "                current_index = int(event.get('global:index', -1))\n",
    "\n",
    "                # Check for discontinuity\n",
    "                if previous_index != -1 and current_index != previous_index + 1:\n",
    "                    if current_events:\n",
    "                        all_events.append(current_events)\n",
    "                        current_events = []\n",
    "\n",
    "                current_events.append(event)\n",
    "                previous_index = current_index\n",
    "\n",
    "            except json.JSONDecodeError as e:\n",
    "                print(f\"Error decoding JSON: {e}\")\n",
    "                continue\n",
    "\n",
    "        # Add the last segment if any\n",
    "        if current_events:\n",
    "            all_events.append(current_events)\n",
    "\n",
    "    return all_events\n",
    "\n",
    "# Example usage\n",
    "events = read_output_csv('data/output.csv')"
   ]
  },
  {
   "cell_type": "code",
   "execution_count": null,
   "id": "3cf9b04f-34ac-4aac-b6db-cc367a4a3fa4",
   "metadata": {},
   "outputs": [],
   "source": [
    "len(events)"
   ]
  },
  {
   "cell_type": "code",
   "execution_count": null,
   "id": "483446d2-376b-49f9-8545-45f136586955",
   "metadata": {},
   "outputs": [],
   "source": [
    "import math\n",
    "import json\n",
    "\n",
    "# Initialize an empty dictionary to hold structured data\n",
    "structured_data = {}\n",
    "\n",
    "for segment in events:\n",
    "    event_sample = None\n",
    "    event_index = None\n",
    "    ied_detected = False\n",
    "    global_idx = None\n",
    "\n",
    "    # First run through the segment and find the sample where the event happened, store its global_index\n",
    "    for idx, sample in enumerate(segment):\n",
    "        if sample.get('triggers:main_trigger:triggered', 0.0) == 1.0:\n",
    "            event_sample = sample\n",
    "            event_index = idx\n",
    "            global_idx = sample.get('global:index', -1)\n",
    "            break  # Stop after finding the first event\n",
    "\n",
    "    if event_sample is None:\n",
    "        continue  # No event found in this segment\n",
    "\n",
    "    structured_data[global_idx] = {\n",
    "        'detectors': {},\n",
    "        'filters': {},\n",
    "        'triggers': {},\n",
    "        'global': {}\n",
    "    }\n",
    "\n",
    "    for key, value in event_sample.items():\n",
    "        category, sub_key = key.split(':', 1)\n",
    "\n",
    "        if category == 'detectors':\n",
    "            detector_type, detector_key = sub_key.split(':', 1)\n",
    "            if detector_type not in structured_data[global_idx]['detectors']:\n",
    "                structured_data[global_idx]['detectors'][detector_type] = {}\n",
    "            structured_data[global_idx]['detectors'][detector_type][detector_key] = value\n",
    "\n",
    "        elif category == 'filters':\n",
    "            filter_type, filter_key = sub_key.split(':', 1)\n",
    "            if filter_type not in structured_data[global_idx]['filters']:\n",
    "                structured_data[global_idx]['filters'][filter_type] = {}\n",
    "            structured_data[global_idx]['filters'][filter_type][filter_key] = value\n",
    "\n",
    "        elif category == 'triggers':\n",
    "            trigger_type, trigger_key = sub_key.split(':', 1)\n",
    "            if trigger_type not in structured_data[global_idx]['triggers']:\n",
    "                structured_data[global_idx]['triggers'][trigger_type] = {}\n",
    "            structured_data[global_idx]['triggers'][trigger_type][trigger_key] = value\n",
    "\n",
    "        elif category == 'global':\n",
    "            structured_data[global_idx]['global'][sub_key] = value"
   ]
  },
  {
   "cell_type": "code",
   "execution_count": null,
   "id": "d0942ba6-4672-4583-b4f1-2e2771773ce9",
   "metadata": {},
   "outputs": [],
   "source": [
    "sinusoidness_values = []\n",
    "\n",
    "for event_key, event_data in structured_data.items():\n",
    "    # print(f\"Type of event_data: {type(event_data)}\")  # Debugging print statement\n",
    "    detectors = event_data.get('detectors', {})\n",
    "    slow_wave_detector = detectors.get('slow_wave_detector', {})\n",
    "    sinusoidness = slow_wave_detector.get('sinusoidness', None)\n",
    "    if sinusoidness is not None:\n",
    "        sinusoidness_values.append(sinusoidness)\n",
    "\n",
    "if sinusoidness_values:\n",
    "    highest_value = max(sinusoidness_values)\n",
    "    lowest_value = min(sinusoidness_values)\n",
    "    average_value = np.mean(sinusoidness_values)\n",
    "    \n",
    "    print(f\"Highest sinusoidness: {highest_value}\")\n",
    "    print(f\"Lowest sinusoidness: {lowest_value}\")\n",
    "    print(f\"Average sinusoidness: {average_value}\")\n",
    "else:\n",
    "    print(\"No sinusoidness values found in the event data.\")"
   ]
  },
  {
   "cell_type": "code",
   "execution_count": null,
   "id": "23492475-26c6-487e-9f0f-67d4ab5afb55",
   "metadata": {},
   "outputs": [],
   "source": [
    "import matplotlib.pyplot as plt\n",
    "import numpy as np\n",
    "\n",
    "def plot_events_with_context(events, sample_freq, context_size):\n",
    "    plt.figure(figsize=(10, 6))\n",
    "\n",
    "    for segment in events:\n",
    "        # Extract the signal segment to plot\n",
    "        segment_data = [sample.get('filters:slow_wave_filter:filtered_sample', 0.0) for sample in segment]\n",
    "        normalized_time = np.arange(-context_size, context_size + 1) / sample_freq\n",
    "\n",
    "        # Plot the signal segment\n",
    "        plt.plot(normalized_time, segment_data, label='Signal', alpha=0.3)\n",
    "\n",
    "        # Extract the indices\n",
    "        first_sample_index = segment[0].get('global:index')\n",
    "        event_sample = segment[context_size]\n",
    "        downwave_start_idx = int(event_sample.get('detectors:slow_wave_detector:downwave_start_index', -1))\n",
    "        downwave_end_idx = int(event_sample.get('detectors:slow_wave_detector:downwave_end_index', -1))\n",
    "        predicted_next_maxima_idx = int(event_sample.get('detectors:slow_wave_detector:predicted_next_maxima_index', -1))\n",
    "\n",
    "        # Normalize indices\n",
    "        normalized_downwave_start_idx = int(downwave_start_idx - first_sample_index)\n",
    "        normalized_downwave_end_idx = int(downwave_end_idx - first_sample_index)\n",
    "        normalized_predicted_next_maxima_idx = int(predicted_next_maxima_idx - first_sample_index)\n",
    "\n",
    "        # Ensure the indices are within the segment bounds\n",
    "        if normalized_downwave_start_idx < 0 or normalized_downwave_end_idx >= len(segment_data):\n",
    "            continue\n",
    "\n",
    "        # Highlight the event signal\n",
    "        event_segment_data = segment_data[normalized_downwave_start_idx:normalized_predicted_next_maxima_idx + 1]\n",
    "        normalized_event_times = normalized_time[normalized_downwave_start_idx:normalized_predicted_next_maxima_idx + 1]\n",
    "\n",
    "        # Plot the event signal\n",
    "        plt.plot(normalized_event_times, event_segment_data, color='red', alpha=0.5)\n",
    "\n",
    "        # Plot the predicted next maxima as a green vertical line at the predicted maxima time\n",
    "        plt.axvline(x=normalized_time[normalized_predicted_next_maxima_idx], color='green', linestyle='-', alpha=0.05)\n",
    "\n",
    "    # Add labels and legend\n",
    "    plt.xlabel('Time (seconds)')\n",
    "    plt.ylabel('Amplitude')\n",
    "    plt.title('Overlay of Event Signals with Aligned Detection - End of Downwave')\n",
    "    plt.ticklabel_format(useOffset=False)\n",
    "    plt.legend(['Signal', 'Event', 'Next Maxima'])\n",
    "    plt.show()\n",
    "\n",
    "# Example usage\n",
    "sample_freq = 512.0  # Sample frequency\n",
    "context_size = 2000  # Context size around the event\n",
    "plot_events_with_context(events, sample_freq, context_size)\n"
   ]
  },
  {
   "cell_type": "code",
   "execution_count": null,
   "id": "eba4bf79-dec5-454d-8ad3-8711e2136e05",
   "metadata": {},
   "outputs": [],
   "source": [
    "import matplotlib.pyplot as plt\n",
    "import numpy as np\n",
    "\n",
    "def plot_events_with_context(events, sample_freq, context_size):\n",
    "    for segment in events:\n",
    "        plt.figure(figsize=(10, 6))\n",
    "        \n",
    "        # Extract the signal segment to plot\n",
    "        segment_data = [sample.get('filters:slow_wave_filter:filtered_sample', 0.0) for sample in segment]\n",
    "        normalized_time = np.arange(-context_size, context_size + 1) / sample_freq\n",
    "\n",
    "        # Plot the signal segment\n",
    "        plt.plot(normalized_time, segment_data, label='Signal', alpha=0.3)\n",
    "\n",
    "        # Extract the indices\n",
    "        first_sample_index = segment[0].get('global:index')\n",
    "        event_sample = segment[context_size]\n",
    "        downwave_start_idx = int(event_sample.get('detectors:slow_wave_detector:downwave_start_index', -1))\n",
    "        downwave_end_idx = int(event_sample.get('detectors:slow_wave_detector:downwave_end_index', -1))\n",
    "        predicted_next_maxima_idx = int(event_sample.get('detectors:slow_wave_detector:predicted_next_maxima_index', -1))\n",
    "\n",
    "        # Normalize indices\n",
    "        normalized_downwave_start_idx = int(downwave_start_idx - first_sample_index)\n",
    "        normalized_downwave_end_idx = int(downwave_end_idx - first_sample_index)\n",
    "        normalized_predicted_next_maxima_idx = int(predicted_next_maxima_idx - first_sample_index)\n",
    "\n",
    "        # Ensure the indices are within the segment bounds\n",
    "        if normalized_downwave_start_idx < 0 or normalized_downwave_end_idx >= len(segment_data):\n",
    "            continue\n",
    "\n",
    "        # Highlight the event signal\n",
    "        event_segment_data = segment_data[normalized_downwave_start_idx:normalized_downwave_end_idx + 1]\n",
    "        normalized_event_times = normalized_time[normalized_downwave_start_idx:normalized_downwave_end_idx + 1]\n",
    "\n",
    "        # Plot the event signal\n",
    "        plt.plot(normalized_event_times, event_segment_data, color='red', alpha=0.5)\n",
    "\n",
    "        # Plot the predicted next maxima as a green vertical line at the predicted maxima time\n",
    "        plt.axvline(x=normalized_time[normalized_predicted_next_maxima_idx], color='green', linestyle='--', alpha=0.5)\n",
    "\n",
    "        # Add labels and legend\n",
    "        plt.xlabel('Time (seconds)')\n",
    "        plt.ylabel('Amplitude')\n",
    "        plt.title('Overlay of Event Signals with Aligned Detection - End of Downwave')\n",
    "        plt.ticklabel_format(useOffset=False)\n",
    "        plt.legend(['Signal', 'Event', 'Next Maxima'])\n",
    "        plt.show()\n",
    "\n",
    "# Example usage\n",
    "sample_freq = 512.0  # Sample frequency\n",
    "context_size = 2000  # Context size around the event\n",
    "plot_events_with_context(events[100:], sample_freq, context_size)\n"
   ]
  }
 ],
 "metadata": {
  "kernelspec": {
   "display_name": "Python 3 (ipykernel)",
   "language": "python",
   "name": "python3"
  },
  "language_info": {
   "codemirror_mode": {
    "name": "ipython",
    "version": 3
   },
   "file_extension": ".py",
   "mimetype": "text/x-python",
   "name": "python",
   "nbconvert_exporter": "python",
   "pygments_lexer": "ipython3",
   "version": "3.11.4"
  }
 },
 "nbformat": 4,
 "nbformat_minor": 5
}
