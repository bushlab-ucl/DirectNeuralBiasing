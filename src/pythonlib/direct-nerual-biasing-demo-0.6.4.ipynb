{
 "cells": [
  {
   "cell_type": "markdown",
   "id": "0779de53-eb3f-4f08-8ca3-8ec53dd0b2d2",
   "metadata": {},
   "source": [
    "# Direct Neural Biasing - Python Demo"
   ]
  },
  {
   "cell_type": "markdown",
   "id": "db8f3694-e824-47e4-8098-fa06e7757828",
   "metadata": {},
   "source": [
    "### STEP 1 - Import Python Modules"
   ]
  },
  {
   "cell_type": "code",
   "execution_count": null,
   "id": "2fdd3bcb-ea83-45b0-a42d-42a6a20b082e",
   "metadata": {},
   "outputs": [],
   "source": [
    "from pathlib import Path\n",
    "from time import time\n",
    "\n",
    "from scipy import signal\n",
    "import matplotlib.pyplot as plt\n",
    "import numpy as np\n",
    "import pandas as pd\n",
    "\n",
    "import direct_neural_biasing as dnb"
   ]
  },
  {
   "cell_type": "markdown",
   "id": "9e2d07dc-3354-4ce5-b84f-713974fb9843",
   "metadata": {},
   "source": [
    "### STEP 2 - Define Data Array"
   ]
  },
  {
   "cell_type": "code",
   "execution_count": null,
   "id": "d0706f32-1f5f-4b39-a9e2-dd318317450c",
   "metadata": {},
   "outputs": [],
   "source": [
    "# TODO - ADD EPI FILE ADAPTER"
   ]
  },
  {
   "cell_type": "code",
   "execution_count": null,
   "id": "b12517ef-c657-4236-a6c3-f08660d40fd6",
   "metadata": {},
   "outputs": [],
   "source": [
    "# Temporary hack that imports 'data' from CSV \n",
    "data = pd.read_csv('signal.csv')"
   ]
  },
  {
   "cell_type": "markdown",
   "id": "c5d4d1b5-da82-411d-80af-3a5dbc885f61",
   "metadata": {},
   "source": [
    "### STEP 3 - Setup Signal Processer"
   ]
  },
  {
   "cell_type": "markdown",
   "id": "e4a74c5a-7b85-4e32-84cc-163541fc7eb7",
   "metadata": {},
   "source": [
    "#### 3.1 - Create Signal Processor Object"
   ]
  },
  {
   "cell_type": "code",
   "execution_count": null,
   "id": "6fc736c6-b3b0-4ec5-aad2-52216b200974",
   "metadata": {},
   "outputs": [],
   "source": [
    "logging = False # logging=True generates a csv log file\n",
    "downsampling_rate = 1 # \n",
    "\n",
    "signal_processecor = dnb.PySignalProcessor(logging, downsampling_rate)"
   ]
  },
  {
   "cell_type": "markdown",
   "id": "0806f5e4-883f-4ee1-803e-fde30c78849b",
   "metadata": {},
   "source": [
    "#### 3.2 - Create Filter Object"
   ]
  },
  {
   "cell_type": "code",
   "execution_count": null,
   "id": "2f5aefd9-280a-4643-9205-52c620480335",
   "metadata": {},
   "outputs": [],
   "source": [
    "id = 'simple_filter'\n",
    "f0 = 0.5 # bandpass filter center frequency\n",
    "fs = 30000 # signal sample rate\n",
    "\n",
    "signal_processecor.add_filter(id, 0.5, fs)"
   ]
  },
  {
   "cell_type": "markdown",
   "id": "48f24a54-fb16-41cb-922e-18a74518dd22",
   "metadata": {},
   "source": [
    "#### 3.3 - Create Slow Wave Detector"
   ]
  },
  {
   "cell_type": "code",
   "execution_count": null,
   "id": "94909be8-0d9c-4db8-be38-49927799f2f6",
   "metadata": {},
   "outputs": [],
   "source": [
    "id = 'slow_wave_detector'\n",
    "filter_id = 'simple_filter' # which filtered_signal should the detector read from\n",
    "threshold_sinusoid\n",
    "\n",
    "signal_processecor.add_slow_wave_detector()"
   ]
  },
  {
   "cell_type": "code",
   "execution_count": null,
   "id": "61e8dd5b-c045-4dfc-a5dc-e022a6c5bb0d",
   "metadata": {},
   "outputs": [],
   "source": []
  }
 ],
 "metadata": {
  "kernelspec": {
   "display_name": "Python 3 (ipykernel)",
   "language": "python",
   "name": "python3"
  },
  "language_info": {
   "codemirror_mode": {
    "name": "ipython",
    "version": 3
   },
   "file_extension": ".py",
   "mimetype": "text/x-python",
   "name": "python",
   "nbconvert_exporter": "python",
   "pygments_lexer": "ipython3",
   "version": "3.11.4"
  }
 },
 "nbformat": 4,
 "nbformat_minor": 5
}
