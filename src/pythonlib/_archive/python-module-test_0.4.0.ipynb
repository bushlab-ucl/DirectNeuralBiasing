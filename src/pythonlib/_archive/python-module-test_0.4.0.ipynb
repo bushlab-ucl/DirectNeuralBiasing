{
 "cells": [
  {
   "cell_type": "code",
   "execution_count": null,
   "id": "7078928a-9150-4ec7-a994-02d67cd7eed4",
   "metadata": {},
   "outputs": [],
   "source": [
    "from pathlib import Path\n",
    "\n",
    "from scipy import signal\n",
    "import matplotlib.pyplot as plt\n",
    "import numpy as np\n",
    "import pandas as pd\n",
    "\n",
    "import brpylib\n",
    "from time import time"
   ]
  },
  {
   "cell_type": "code",
   "execution_count": null,
   "id": "672c1a0e-c131-4ba5-910d-9cc607d6621f",
   "metadata": {},
   "outputs": [],
   "source": [
    "filename = '20190122-065346-004'\n",
    "\n",
    "datafile = f'data/{filename}.ns6'\n",
    "datapath = Path(datafile)\n",
    "\n",
    "start_time_s = 1.0\n",
    "plot_chan = 1\n",
    "\n",
    "elec_ids     = list(range(1, 97))      # 'all' is default for all (1-indexed)\n",
    "data_time_s  = 'all' # 2.0 # 'all' # 2.0                     # 'all' is default for all\n",
    "downsample   = 1        "
   ]
  },
  {
   "cell_type": "code",
   "execution_count": null,
   "id": "7d102ecc-ffdc-4296-88f8-56e98d86071e",
   "metadata": {},
   "outputs": [],
   "source": [
    "# Open file and extract headers\n",
    "nsx_file = brpylib.NsxFile(str(datapath))\n",
    "\n",
    "# Extract data - note: data will be returned based on *SORTED* elec_ids, see cont_data['elec_ids']\n",
    "cont_data = nsx_file.getdata(elec_ids, start_time_s, data_time_s, downsample, full_timestamps=True)\n",
    "\n",
    "# Close the nsx file now that all data is out\n",
    "nsx_file.close()"
   ]
  },
  {
   "cell_type": "markdown",
   "id": "a11b3aa7-33d6-4867-aa77-a338f13329da",
   "metadata": {},
   "source": [
    "## RAW"
   ]
  },
  {
   "cell_type": "code",
   "execution_count": null,
   "id": "fb3fe4eb-d404-4e43-a82d-6c5f4fe26095",
   "metadata": {},
   "outputs": [],
   "source": [
    "# Plot the data channel\n",
    "seg_id = 0\n",
    "ch_idx  = cont_data[\"elec_ids\"].index(plot_chan)\n",
    "t = cont_data[\"data_headers\"][seg_id][\"Timestamp\"] / cont_data[\"samp_per_s\"]"
   ]
  },
  {
   "cell_type": "code",
   "execution_count": null,
   "id": "db8a59b2-0298-48f0-9430-a2e335ce5b45",
   "metadata": {},
   "outputs": [],
   "source": [
    "channel_data_1 = cont_data[\"data\"][seg_id][0]\n",
    "channel_data_3 = cont_data[\"data\"][seg_id][2]\n",
    "channel_data_9 = cont_data[\"data\"][seg_id][8]\n",
    "# channel_data_29 = cont_data[\"data\"][seg_id][29]\n",
    "\n",
    "print(np.shape(channel_data_1))\n",
    "channel_data_1 = channel_data_1 * 0.01\n",
    "print('channel_1')\n",
    "print(channel_data_1[100])\n",
    "print(channel_data_1[1000])\n",
    "print('channel_2')\n",
    "print(channel_data_3[100])\n",
    "print(channel_data_3[1000])\n",
    "print('channel_9')\n",
    "print(channel_data_9[100])\n",
    "print(channel_data_9[1000])\n",
    "\n",
    "# data = {'channel_1':channel_data}\n",
    "# df = pd.DataFrame(data)\n",
    "\n",
    "# # Write to CSV\n",
    "# df.to_csv('signal.csv', index=False)"
   ]
  },
  {
   "cell_type": "code",
   "execution_count": null,
   "id": "49361f55-d3b7-45ab-9606-b942a44fc41f",
   "metadata": {},
   "outputs": [],
   "source": [
    "plt.plot(t, cont_data[\"data\"][seg_id][ch_idx])\n",
    "plt.axis([t[0], t[-1], min(cont_data[\"data\"][seg_id][ch_idx]), max(cont_data[\"data\"][seg_id][ch_idx])])\n",
    "plt.locator_params(axis=\"y\", nbins=20)\n",
    "plt.xlabel(\"Time (s)\")\n",
    "# plt.ylabel(\"Output (\" + nsx_file.extended_headers[hdr_idx]['Units'] + \")\")\n",
    "# plt.title(nsx_file.extended_headers[hdr_idx]['ElectrodeLabel'])\n",
    "plt.show()"
   ]
  },
  {
   "cell_type": "code",
   "execution_count": null,
   "id": "f7aa29b8-3775-4fd8-98e1-fba93263e463",
   "metadata": {},
   "outputs": [],
   "source": [
    "print(len(cont_data[\"data\"][seg_id][ch_idx][:100]))"
   ]
  },
  {
   "cell_type": "markdown",
   "id": "21bfbd95-c224-459d-87e5-8a86e1a7156e",
   "metadata": {},
   "source": [
    "# Direct Neural Biasing - PySignalProcessor"
   ]
  },
  {
   "cell_type": "code",
   "execution_count": null,
   "id": "61b11df7-c8e6-4189-bfed-5f8108c2f177",
   "metadata": {},
   "outputs": [],
   "source": [
    "import direct_neural_biasing as dnb"
   ]
  },
  {
   "cell_type": "code",
   "execution_count": null,
   "id": "3a779ed9-5cee-448b-9973-7c47a344efef",
   "metadata": {},
   "outputs": [],
   "source": [
    "# Create an instance of the signal processor\n",
    "processor = dnb.PySignalProcessor(logging=True, downsampling_rate=1)\n",
    "\n",
    "# Add a BandPass filter\n",
    "processor.add_filter(id=\"butterworth\", f0=100.0, fs=10000.0)\n",
    "\n",
    "# Add threshold detectors\n",
    "processor.add_threshold_detector(id=\"det1\", filter_id=\"butterworth\", threshold=1.0, buffer_size=100, sensitivity=0.1)\n",
    "processor.add_threshold_detector(id=\"det2\", filter_id=\"butterworth\", threshold=2.0, buffer_size=100, sensitivity=0.2)\n",
    "\n",
    "# Add a pulse trigger\n",
    "processor.add_pulse_trigger(id=\"main_trigger\", activation_detector_id=\"det1\", inhibition_detector_id=\"det2\", activation_cooldown=10, inhibition_cooldown=5)\n",
    "\n",
    "# Process the signal\n",
    "results = processor.run(cont_data[\"data\"][seg_id][ch_idx])\n",
    "\n",
    "# Step 4: Output detection results\n",
    "# for result in results:\n",
    "#     print(result)\n",
    "\n",
    "print('\\n')\n",
    "print(results[0])"
   ]
  },
  {
   "cell_type": "markdown",
   "id": "8f5fe3b2-620b-4ca1-af6b-02979e9ef0ab",
   "metadata": {},
   "source": [
    "## Scipy"
   ]
  },
  {
   "cell_type": "code",
   "execution_count": null,
   "id": "d7da66da-f795-4bf1-8dce-f3621e8dd656",
   "metadata": {},
   "outputs": [],
   "source": [
    "b, a = signal.butter(2, [0.25, 4], 'bp', fs=cont_data[\"samp_per_s\"])\n",
    "scipy_signal = signal.lfilter(b,a,cont_data[\"data\"][seg_id][ch_idx])"
   ]
  },
  {
   "cell_type": "code",
   "execution_count": null,
   "id": "037c16a1-9619-4f46-87fb-8add32ac719f",
   "metadata": {},
   "outputs": [],
   "source": [
    "plt.plot(t, scipy_signal)\n",
    "plt.axis([t[0], t[-1], min(scipy_signal), max(scipy_signal)])\n",
    "plt.locator_params(axis=\"y\", nbins=20)\n",
    "plt.xlabel(\"Time (s)\")\n",
    "# plt.ylabel(\"Output (\" + nsx_file.extended_headers[hdr_idx]['Units'] + \")\")\n",
    "# plt.title(nsx_file.extended_headers[hdr_idx]['ElectrodeLabel'])\n",
    "plt.show()"
   ]
  }
 ],
 "metadata": {
  "kernelspec": {
   "display_name": "Python 3 (ipykernel)",
   "language": "python",
   "name": "python3"
  },
  "language_info": {
   "codemirror_mode": {
    "name": "ipython",
    "version": 3
   },
   "file_extension": ".py",
   "mimetype": "text/x-python",
   "name": "python",
   "nbconvert_exporter": "python",
   "pygments_lexer": "ipython3",
   "version": "3.11.4"
  }
 },
 "nbformat": 4,
 "nbformat_minor": 5
}
