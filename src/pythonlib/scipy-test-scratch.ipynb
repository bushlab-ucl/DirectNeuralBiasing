{
 "cells": [
  {
   "cell_type": "code",
   "execution_count": null,
   "id": "6194662f-b286-4f21-a86d-7a059b40ae2e",
   "metadata": {},
   "outputs": [],
   "source": [
    "import dnb\n",
    "from scipy import signal\n",
    "import matplotlib.pyplot as plt\n",
    "import numpy as np"
   ]
  },
  {
   "cell_type": "code",
   "execution_count": null,
   "id": "25a1b756-f193-48b7-a37f-294dd5479cff",
   "metadata": {},
   "outputs": [],
   "source": [
    "b, a = dnb.filters.with_bounds_coeffs([80,120], 30000)"
   ]
  },
  {
   "cell_type": "code",
   "execution_count": null,
   "id": "afe5a37b-f6c2-41f8-bfa7-cca381bd16bb",
   "metadata": {},
   "outputs": [],
   "source": [
    "b, a = signal.butter(2, [80, 120], 'bp', fs=30000)"
   ]
  },
  {
   "cell_type": "code",
   "execution_count": null,
   "id": "d9e73001-8e01-4efd-bc1d-801714de333c",
   "metadata": {},
   "outputs": [],
   "source": [
    "w, h = signal.freqs(b, a)\n",
    "plt.semilogx(w, 20 * np.log10(abs(h)))\n",
    "plt.title('Butterworth filter frequency response')\n",
    "plt.xlabel('Frequency [radians / second]')\n",
    "plt.ylabel('Amplitude [dB]')\n",
    "plt.margins(0, 0.1)\n",
    "plt.grid(which='both', axis='both')\n",
    "plt.axvline(100, color='green') # cutoff frequency\n",
    "plt.show()"
   ]
  },
  {
   "cell_type": "code",
   "execution_count": null,
   "id": "04eebf97-5ca6-49b9-8ecd-624e33ec1cb2",
   "metadata": {},
   "outputs": [],
   "source": [
    "signal.lfilter(b,a,[1,2,3,2,1])"
   ]
  },
  {
   "cell_type": "code",
   "execution_count": null,
   "id": "da384979-4c1e-414a-be0a-9854f89be5b9",
   "metadata": {},
   "outputs": [],
   "source": []
  }
 ],
 "metadata": {
  "kernelspec": {
   "display_name": "Python 3 (ipykernel)",
   "language": "python",
   "name": "python3"
  },
  "language_info": {
   "codemirror_mode": {
    "name": "ipython",
    "version": 3
   },
   "file_extension": ".py",
   "mimetype": "text/x-python",
   "name": "python",
   "nbconvert_exporter": "python",
   "pygments_lexer": "ipython3",
   "version": "3.11.4"
  }
 },
 "nbformat": 4,
 "nbformat_minor": 5
}
